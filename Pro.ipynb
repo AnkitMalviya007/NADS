{
 "cells": [
  {
   "cell_type": "code",
   "execution_count": 1,
   "id": "ec6ddad9",
   "metadata": {},
   "outputs": [],
   "source": [
    "import numpy as np # linear algebra\n",
    "import pandas as pd # data processing, CSV file I/O (e.g. pd.read_csv)\n",
    "import os\n",
    "# Input data files are available in the read-only \"../input/\" directory\n",
    "# For example, running this (by clicking run or pressing Shift+Enter) will list all files under the input directory\n"
   ]
  },
  {
   "cell_type": "code",
   "execution_count": 2,
   "id": "c502c3d4",
   "metadata": {},
   "outputs": [
    {
     "name": "stdout",
     "output_type": "stream",
     "text": [
      "C:/Users/Ankit/Downloads/Project/CSVs\\Friday-WorkingHours-Afternoon-DDos.pcap_ISCX.csv\n",
      "C:/Users/Ankit/Downloads/Project/CSVs\\Friday-WorkingHours-Afternoon-PortScan.pcap_ISCX.csv\n",
      "C:/Users/Ankit/Downloads/Project/CSVs\\Friday-WorkingHours-Morning.pcap_ISCX.csv\n",
      "C:/Users/Ankit/Downloads/Project/CSVs\\Monday-WorkingHours.pcap_ISCX.csv\n",
      "C:/Users/Ankit/Downloads/Project/CSVs\\Thursday-WorkingHours-Afternoon-Infilteration.pcap_ISCX.csv\n",
      "C:/Users/Ankit/Downloads/Project/CSVs\\Thursday-WorkingHours-Morning-WebAttacks.pcap_ISCX.csv\n",
      "C:/Users/Ankit/Downloads/Project/CSVs\\Tuesday-WorkingHours.pcap_ISCX.csv\n",
      "C:/Users/Ankit/Downloads/Project/CSVs\\Wednesday-workingHours.pcap_ISCX.csv\n"
     ]
    }
   ],
   "source": [
    "dspaths = []\n",
    "for dirname, _, filenames in os.walk('C:/Users/Ankit/Downloads/Project/CSVs'):\n",
    "    for filename in filenames:\n",
    "        if filename.endswith('.csv'):\n",
    "            pds = os.path.join(dirname, filename)\n",
    "            dspaths.append(pds)\n",
    "            print(pds)"
   ]
  },
  {
   "cell_type": "code",
   "execution_count": 3,
   "id": "db96967c",
   "metadata": {},
   "outputs": [],
   "source": [
    "from fastai.tabular.all import df_shrink\n",
    "from fastcore.parallel import *"
   ]
  },
  {
   "cell_type": "code",
   "execution_count": 4,
   "id": "91b7a4ae",
   "metadata": {},
   "outputs": [],
   "source": [
    "col_name_consistency = {\n",
    "'Flow ID': 'Flow ID',\n",
    "'Source IP': 'Source IP',\n",
    "'Src IP':  'Source IP',\n",
    "'Source Port': 'Source Port',\n",
    "'Src Port': 'Source Port',\n",
    "'Destination IP': 'Destination IP',\n",
    "'Dst IP': 'Destination IP',\n",
    "'Destination Port': 'Destination Port',\n",
    "'Dst Port': 'Destination Port',\n",
    "'Protocol': 'Protocol',\n",
    "'Timestamp': 'Timestamp',\n",
    "'Flow Duration': 'Flow Duration',\n",
    "'Total Fwd Packets': 'Total Fwd Packets',\n",
    "'Tot Fwd Pkts': 'Total Fwd Packets',\n",
    "'Total Backward Packets': 'Total Backward Packets',\n",
    "'Tot Bwd Pkts': 'Total Backward Packets',\n",
    "'Total Length of Fwd Packets': 'Fwd Packets Length Total',\n",
    "'TotLen Fwd Pkts': 'Fwd Packets Length Total',\n",
    "'Total Length of Bwd Packets': 'Bwd Packets Length Total',\n",
    "'TotLen Bwd Pkts': 'Bwd Packets Length Total',\n",
    "'Fwd Packet Length Max': 'Fwd Packet Length Max',\n",
    "'Fwd Pkt Len Max': 'Fwd Packet Length Max',\n",
    "'Fwd Packet Length Min': 'Fwd Packet Length Min',\n",
    "'Fwd Pkt Len Min': 'Fwd Packet Length Min',\n",
    "'Fwd Packet Length Mean': 'Fwd Packet Length Mean',\n",
    "'Fwd Pkt Len Mean': 'Fwd Packet Length Mean',\n",
    "'Fwd Packet Length Std': 'Fwd Packet Length Std',\n",
    "'Fwd Pkt Len Std': 'Fwd Packet Length Std',\n",
    "'Bwd Packet Length Max': 'Bwd Packet Length Max',\n",
    "'Bwd Pkt Len Max': 'Bwd Packet Length Max',\n",
    "'Bwd Packet Length Min': 'Bwd Packet Length Min',\n",
    "'Bwd Pkt Len Min': 'Bwd Packet Length Min',\n",
    "'Bwd Packet Length Mean': 'Bwd Packet Length Mean',\n",
    "'Bwd Pkt Len Mean': 'Bwd Packet Length Mean',\n",
    "'Bwd Packet Length Std': 'Bwd Packet Length Std',\n",
    "'Bwd Pkt Len Std': 'Bwd Packet Length Std',\n",
    "'Flow Bytes/s': 'Flow Bytes/s',\n",
    "'Flow Byts/s': 'Flow Bytes/s',\n",
    "'Flow Packets/s': 'Flow Packets/s',\n",
    "'Flow Pkts/s': 'Flow Packets/s',\n",
    "'Flow IAT Mean': 'Flow IAT Mean',\n",
    "'Flow IAT Std': 'Flow IAT Std',\n",
    "'Flow IAT Max': 'Flow IAT Max',\n",
    "'Flow IAT Min': 'Flow IAT Min',\n",
    "'Fwd IAT Total': 'Fwd IAT Total',\n",
    "'Fwd IAT Tot': 'Fwd IAT Total',\n",
    "'Fwd IAT Mean': 'Fwd IAT Mean',\n",
    "'Fwd IAT Std': 'Fwd IAT Std',\n",
    "'Fwd IAT Max': 'Fwd IAT Max',\n",
    "'Fwd IAT Min': 'Fwd IAT Min',\n",
    "'Bwd IAT Total': 'Bwd IAT Total',\n",
    "'Bwd IAT Tot': 'Bwd IAT Total',\n",
    "'Bwd IAT Mean': 'Bwd IAT Mean',\n",
    "'Bwd IAT Std': 'Bwd IAT Std',\n",
    "'Bwd IAT Max': 'Bwd IAT Max',\n",
    "'Bwd IAT Min': 'Bwd IAT Min',\n",
    "'Fwd PSH Flags': 'Fwd PSH Flags',\n",
    "'Bwd PSH Flags': 'Bwd PSH Flags',\n",
    "'Fwd URG Flags': 'Fwd URG Flags',\n",
    "'Bwd URG Flags': 'Bwd URG Flags',\n",
    "'Fwd Header Length': 'Fwd Header Length',\n",
    "'Fwd Header Len': 'Fwd Header Length',\n",
    "'Bwd Header Length': 'Bwd Header Length',\n",
    "'Bwd Header Len': 'Bwd Header Length',\n",
    "'Fwd Packets/s': 'Fwd Packets/s',\n",
    "'Fwd Pkts/s': 'Fwd Packets/s',\n",
    "'Bwd Packets/s': 'Bwd Packets/s',\n",
    "'Bwd Pkts/s': 'Bwd Packets/s',\n",
    "'Min Packet Length': 'Packet Length Min',\n",
    "'Pkt Len Min': 'Packet Length Min',\n",
    "'Max Packet Length': 'Packet Length Max',\n",
    "'Pkt Len Max': 'Packet Length Max',\n",
    "'Packet Length Mean': 'Packet Length Mean',\n",
    "'Pkt Len Mean': 'Packet Length Mean',\n",
    "'Packet Length Std': 'Packet Length Std',\n",
    "'Pkt Len Std': 'Packet Length Std',\n",
    "'Packet Length Variance': 'Packet Length Variance',\n",
    "'Pkt Len Var': 'Packet Length Variance',\n",
    "'FIN Flag Count': 'FIN Flag Count',\n",
    "'FIN Flag Cnt': 'FIN Flag Count',\n",
    "'SYN Flag Count': 'SYN Flag Count',\n",
    "'SYN Flag Cnt': 'SYN Flag Count',\n",
    "'RST Flag Count': 'RST Flag Count',\n",
    "'RST Flag Cnt': 'RST Flag Count',\n",
    "'PSH Flag Count': 'PSH Flag Count',\n",
    "'PSH Flag Cnt': 'PSH Flag Count',\n",
    "'ACK Flag Count': 'ACK Flag Count',\n",
    "'ACK Flag Cnt': 'ACK Flag Count',\n",
    "'URG Flag Count': 'URG Flag Count',\n",
    "'URG Flag Cnt': 'URG Flag Count',\n",
    "'CWE Flag Count': 'CWE Flag Count',\n",
    "'CWE Flag Cnt': 'CWE Flag Count',\n",
    "'ECE Flag Count': 'ECE Flag Count',\n",
    "'ECE Flag Cnt': 'ECE Flag Count',\n",
    "'Down/Up Ratio': 'Down/Up Ratio',\n",
    "'Average Packet Size': 'Avg Packet Size',\n",
    "'Pkt Size Avg': 'Avg Packet Size',\n",
    "'Avg Fwd Segment Size': 'Avg Fwd Segment Size',\n",
    "'Fwd Seg Size Avg': 'Avg Fwd Segment Size',\n",
    "'Avg Bwd Segment Size': 'Avg Bwd Segment Size',\n",
    "'Bwd Seg Size Avg': 'Avg Bwd Segment Size',\n",
    "'Fwd Avg Bytes/Bulk': 'Fwd Avg Bytes/Bulk',\n",
    "'Fwd Byts/b Avg': 'Fwd Avg Bytes/Bulk',\n",
    "'Fwd Avg Packets/Bulk': 'Fwd Avg Packets/Bulk',\n",
    "'Fwd Pkts/b Avg': 'Fwd Avg Packets/Bulk',\n",
    "'Fwd Avg Bulk Rate': 'Fwd Avg Bulk Rate',\n",
    "'Fwd Blk Rate Avg': 'Fwd Avg Bulk Rate',\n",
    "'Bwd Avg Bytes/Bulk': 'Bwd Avg Bytes/Bulk',\n",
    "'Bwd Byts/b Avg': 'Bwd Avg Bytes/Bulk',\n",
    "'Bwd Avg Packets/Bulk': 'Bwd Avg Packets/Bulk',\n",
    "'Bwd Pkts/b Avg': 'Bwd Avg Packets/Bulk',\n",
    "'Bwd Avg Bulk Rate': 'Bwd Avg Bulk Rate',\n",
    "'Bwd Blk Rate Avg': 'Bwd Avg Bulk Rate',\n",
    "'Subflow Fwd Packets': 'Subflow Fwd Packets',\n",
    "'Subflow Fwd Pkts': 'Subflow Fwd Packets',\n",
    "'Subflow Fwd Bytes': 'Subflow Fwd Bytes',\n",
    "'Subflow Fwd Byts': 'Subflow Fwd Bytes',\n",
    "'Subflow Bwd Packets': 'Subflow Bwd Packets',\n",
    "'Subflow Bwd Pkts': 'Subflow Bwd Packets',\n",
    "'Subflow Bwd Bytes': 'Subflow Bwd Bytes',\n",
    "'Subflow Bwd Byts': 'Subflow Bwd Bytes',\n",
    "'Init_Win_bytes_forward': 'Init Fwd Win Bytes',\n",
    "'Init Fwd Win Byts': 'Init Fwd Win Bytes',\n",
    "'Init_Win_bytes_backward': 'Init Bwd Win Bytes',\n",
    "'Init Bwd Win Byts': 'Init Bwd Win Bytes',\n",
    "'act_data_pkt_fwd': 'Fwd Act Data Packets',\n",
    "'Fwd Act Data Pkts': 'Fwd Act Data Packets',\n",
    "'min_seg_size_forward': 'Fwd Seg Size Min',\n",
    "'Fwd Seg Size Min': 'Fwd Seg Size Min',\n",
    "'Active Mean': 'Active Mean',\n",
    "'Active Std': 'Active Std',\n",
    "'Active Max': 'Active Max',\n",
    "'Active Min': 'Active Min',\n",
    "'Idle Mean': 'Idle Mean',\n",
    "'Idle Std': 'Idle Std',\n",
    "'Idle Max': 'Idle Max',\n",
    "'Idle Min': 'Idle Min',\n",
    "'Label': 'Label'\n",
    "}"
   ]
  },
  {
   "cell_type": "code",
   "execution_count": 5,
   "id": "0edbbcac",
   "metadata": {},
   "outputs": [
    {
     "name": "stderr",
     "output_type": "stream",
     "text": [
      "C:\\Users\\Ankit\\AppData\\Local\\Temp\\ipykernel_10052\\184943034.py:1: DtypeWarning: Columns (85) have mixed types. Specify dtype option on import or set low_memory=False.\n",
      "  individual_dfs = [pd.read_csv(dsp, sep=',', encoding='cp1252') for dsp in dspaths]\n",
      "C:\\Users\\Ankit\\AppData\\Local\\Temp\\ipykernel_10052\\184943034.py:1: DtypeWarning: Columns (0,1,3,6,84) have mixed types. Specify dtype option on import or set low_memory=False.\n",
      "  individual_dfs = [pd.read_csv(dsp, sep=',', encoding='cp1252') for dsp in dspaths]\n"
     ]
    },
    {
     "data": {
      "text/plain": [
       "[(225745, 86),\n",
       " (286467, 85),\n",
       " (191033, 85),\n",
       " (529918, 85),\n",
       " (288602, 85),\n",
       " (458968, 85),\n",
       " (445909, 85),\n",
       " (692703, 85)]"
      ]
     },
     "execution_count": 5,
     "metadata": {},
     "output_type": "execute_result"
    }
   ],
   "source": [
    "individual_dfs = [pd.read_csv(dsp, sep=',', encoding='cp1252') for dsp in dspaths]\n",
    "[i.shape for i in individual_dfs]"
   ]
  },
  {
   "cell_type": "code",
   "execution_count": 6,
   "id": "a448deaf",
   "metadata": {},
   "outputs": [
    {
     "name": "stderr",
     "output_type": "stream",
     "text": [
      "C:\\Users\\Ankit\\AppData\\Local\\Temp\\ipykernel_10052\\171665410.py:1: DtypeWarning: Columns (85) have mixed types. Specify dtype option on import or set low_memory=False.\n",
      "  df = pd.concat([pd.read_csv(dsp, sep=',', encoding='cp1252') for dsp in dspaths], ignore_index=True)\n",
      "C:\\Users\\Ankit\\AppData\\Local\\Temp\\ipykernel_10052\\171665410.py:1: DtypeWarning: Columns (0,1,3,6,84) have mixed types. Specify dtype option on import or set low_memory=False.\n",
      "  df = pd.concat([pd.read_csv(dsp, sep=',', encoding='cp1252') for dsp in dspaths], ignore_index=True)\n"
     ]
    },
    {
     "data": {
      "text/plain": [
       "(3119345, 86)"
      ]
     },
     "execution_count": 6,
     "metadata": {},
     "output_type": "execute_result"
    }
   ],
   "source": [
    "df = pd.concat([pd.read_csv(dsp, sep=',', encoding='cp1252') for dsp in dspaths], ignore_index=True)\n",
    "df.shape"
   ]
  },
  {
   "cell_type": "code",
   "execution_count": 7,
   "id": "6708632c",
   "metadata": {},
   "outputs": [
    {
     "data": {
      "text/plain": [
       "<bound method NDFrame.head of                                           Flow ID       Source IP  \\\n",
       "0         192.168.10.16-199.244.48.55-41936-443-6   192.168.10.16   \n",
       "1          192.168.10.16-54.210.195.63-42970-80-6   192.168.10.16   \n",
       "2         192.168.10.16-199.244.48.55-41944-443-6   192.168.10.16   \n",
       "3          192.168.10.3-192.168.10.17-53-12886-17   192.168.10.17   \n",
       "4         192.168.10.16-199.244.48.55-41942-443-6   192.168.10.16   \n",
       "...                                           ...             ...   \n",
       "3119340    192.168.10.3-192.168.10.14-53-51114-17   192.168.10.14   \n",
       "3119341    192.168.10.3-192.168.10.16-53-24054-17   192.168.10.16   \n",
       "3119342  192.168.10.51-23.208.163.130-58030-443-6  23.208.163.130   \n",
       "3119343    192.168.10.3-192.168.10.14-53-51694-17   192.168.10.14   \n",
       "3119344    192.168.10.3-192.168.10.14-53-57949-17   192.168.10.14   \n",
       "\n",
       "          Source Port  Destination IP   Destination Port   Protocol  \\\n",
       "0             41936.0   199.244.48.55              443.0        6.0   \n",
       "1             42970.0   54.210.195.63               80.0        6.0   \n",
       "2             41944.0   199.244.48.55              443.0        6.0   \n",
       "3             12886.0    192.168.10.3               53.0       17.0   \n",
       "4             41942.0   199.244.48.55              443.0        6.0   \n",
       "...               ...             ...                ...        ...   \n",
       "3119340       51114.0    192.168.10.3               53.0       17.0   \n",
       "3119341       24054.0    192.168.10.3               53.0       17.0   \n",
       "3119342         443.0   192.168.10.51            58030.0        6.0   \n",
       "3119343       51694.0    192.168.10.3               53.0       17.0   \n",
       "3119344       57949.0    192.168.10.3               53.0       17.0   \n",
       "\n",
       "              Timestamp   Flow Duration   Total Fwd Packets  \\\n",
       "0         7/7/2017 3:30        143347.0                47.0   \n",
       "1         7/7/2017 3:30         50905.0                 1.0   \n",
       "2         7/7/2017 3:30        143899.0                46.0   \n",
       "3         7/7/2017 3:30           313.0                 2.0   \n",
       "4         7/7/2017 3:30        142605.0                45.0   \n",
       "...                 ...             ...                 ...   \n",
       "3119340  5/7/2017 12:10         32215.0                 4.0   \n",
       "3119341   5/7/2017 3:02           324.0                 2.0   \n",
       "3119342  5/7/2017 10:06            82.0                 2.0   \n",
       "3119343   5/7/2017 1:19       1048635.0                 6.0   \n",
       "3119344   5/7/2017 2:43         94939.0                 4.0   \n",
       "\n",
       "          Total Backward Packets  ...  Active Mean   Active Std   Active Max  \\\n",
       "0                           60.0  ...          0.0          0.0          0.0   \n",
       "1                            1.0  ...          0.0          0.0          0.0   \n",
       "2                           58.0  ...          0.0          0.0          0.0   \n",
       "3                            2.0  ...          0.0          0.0          0.0   \n",
       "4                           58.0  ...          0.0          0.0          0.0   \n",
       "...                          ...  ...          ...          ...          ...   \n",
       "3119340                      2.0  ...          0.0          0.0          0.0   \n",
       "3119341                      2.0  ...          0.0          0.0          0.0   \n",
       "3119342                      1.0  ...          0.0          0.0          0.0   \n",
       "3119343                      2.0  ...          0.0          0.0          0.0   \n",
       "3119344                      2.0  ...          0.0          0.0          0.0   \n",
       "\n",
       "          Active Min  Idle Mean   Idle Std   Idle Max   Idle Min   Label  \\\n",
       "0                0.0        0.0        0.0        0.0        0.0  BENIGN   \n",
       "1                0.0        0.0        0.0        0.0        0.0  BENIGN   \n",
       "2                0.0        0.0        0.0        0.0        0.0  BENIGN   \n",
       "3                0.0        0.0        0.0        0.0        0.0  BENIGN   \n",
       "4                0.0        0.0        0.0        0.0        0.0  BENIGN   \n",
       "...              ...        ...        ...        ...        ...     ...   \n",
       "3119340          0.0        0.0        0.0        0.0        0.0  BENIGN   \n",
       "3119341          0.0        0.0        0.0        0.0        0.0  BENIGN   \n",
       "3119342          0.0        0.0        0.0        0.0        0.0  BENIGN   \n",
       "3119343          0.0        0.0        0.0        0.0        0.0  BENIGN   \n",
       "3119344          0.0        0.0        0.0        0.0        0.0  BENIGN   \n",
       "\n",
       "         External IP  \n",
       "0                NaN  \n",
       "1                NaN  \n",
       "2                NaN  \n",
       "3                NaN  \n",
       "4                NaN  \n",
       "...              ...  \n",
       "3119340          NaN  \n",
       "3119341          NaN  \n",
       "3119342          NaN  \n",
       "3119343          NaN  \n",
       "3119344          NaN  \n",
       "\n",
       "[3119345 rows x 86 columns]>"
      ]
     },
     "execution_count": 7,
     "metadata": {},
     "output_type": "execute_result"
    }
   ],
   "source": [
    "df.head"
   ]
  },
  {
   "cell_type": "markdown",
   "id": "82f7818a",
   "metadata": {},
   "source": [
    "## Drops and Renames"
   ]
  },
  {
   "cell_type": "code",
   "execution_count": 8,
   "id": "cf5590f0",
   "metadata": {},
   "outputs": [],
   "source": [
    "drop_columns = [ # this list includes all spellings across CIC NIDS datasets\n",
    "    \"Flow ID\",    \n",
    "    'Fwd Header Length.1',\n",
    "    \"Source IP\", \"Src IP\",\n",
    "    \"Source Port\", \"Src Port\",\n",
    "    \"Destination IP\", \"Dst IP\",\n",
    "    \"Destination Port\", \"Dst Port\",\n",
    "    \"Timestamp\",\"External IP\" \n",
    "]"
   ]
  },
  {
   "cell_type": "code",
   "execution_count": 9,
   "id": "afeacb92",
   "metadata": {},
   "outputs": [],
   "source": [
    "df.columns = df.columns.str.strip() # sometimes there's leading / trailing whitespace\n",
    "df.drop(columns=drop_columns, inplace=True, errors='ignore')    \n",
    "df.rename(columns=col_name_consistency, inplace=True)\n",
    "df['Label'].replace({'BENIGN': 'Benign'}, inplace=True)"
   ]
  },
  {
   "cell_type": "code",
   "execution_count": 10,
   "id": "29da95fa",
   "metadata": {},
   "outputs": [
    {
     "data": {
      "text/plain": [
       "(3119345, 78)"
      ]
     },
     "execution_count": 10,
     "metadata": {},
     "output_type": "execute_result"
    }
   ],
   "source": [
    "df.shape"
   ]
  },
  {
   "cell_type": "code",
   "execution_count": 11,
   "id": "955836b7",
   "metadata": {},
   "outputs": [
    {
     "name": "stdout",
     "output_type": "stream",
     "text": [
      "Unique values in the 'Label' column:\n",
      "['Benign' 'DDoS' 'PortScan' 'Bot' 'Infiltration'\n",
      " 'Web Attack – Brute Force' 'Web Attack – XSS'\n",
      " 'Web Attack – Sql Injection' nan 'FTP-Patator' 'SSH-Patator'\n",
      " 'DoS slowloris' 'DoS Slowhttptest' 'DoS Hulk' 'DoS GoldenEye'\n",
      " 'Heartbleed']\n",
      "15\n"
     ]
    }
   ],
   "source": [
    "unique_values = df['Label'].unique()\n",
    "unique_count = df['Label'].nunique()\n",
    "print(\"Unique values in the 'Label' column:\")\n",
    "print(unique_values)\n",
    "print(unique_count)"
   ]
  },
  {
   "cell_type": "markdown",
   "id": "4b4c4e56",
   "metadata": {},
   "source": [
    "## Downsizing"
   ]
  },
  {
   "cell_type": "code",
   "execution_count": 12,
   "id": "d327e769",
   "metadata": {},
   "outputs": [
    {
     "data": {
      "text/plain": [
       "Protocol                    float64\n",
       "Flow Duration               float64\n",
       "Total Fwd Packets           float64\n",
       "Total Backward Packets      float64\n",
       "Fwd Packets Length Total    float64\n",
       "                             ...   \n",
       "Idle Mean                   float64\n",
       "Idle Std                    float64\n",
       "Idle Max                    float64\n",
       "Idle Min                    float64\n",
       "Label                        object\n",
       "Length: 78, dtype: object"
      ]
     },
     "execution_count": 12,
     "metadata": {},
     "output_type": "execute_result"
    }
   ],
   "source": [
    "df.dtypes"
   ]
  },
  {
   "cell_type": "code",
   "execution_count": 13,
   "id": "29ee6c98",
   "metadata": {},
   "outputs": [
    {
     "name": "stdout",
     "output_type": "stream",
     "text": [
      "<class 'pandas.core.frame.DataFrame'>\n"
     ]
    }
   ],
   "source": [
    "print(type(df))"
   ]
  },
  {
   "cell_type": "code",
   "execution_count": 14,
   "id": "50d12649",
   "metadata": {},
   "outputs": [
    {
     "ename": "AttributeError",
     "evalue": "'numpy.dtype[float64]' object has no attribute 'items'",
     "output_type": "error",
     "traceback": [
      "\u001b[1;31m---------------------------------------------------------------------------\u001b[0m",
      "\u001b[1;31mAttributeError\u001b[0m                            Traceback (most recent call last)",
      "Cell \u001b[1;32mIn[14], line 1\u001b[0m\n\u001b[1;32m----> 1\u001b[0m df \u001b[38;5;241m=\u001b[39m \u001b[43mdf\u001b[49m\u001b[38;5;241;43m.\u001b[39;49m\u001b[43mapply\u001b[49m\u001b[43m(\u001b[49m\u001b[43mdf_shrink\u001b[49m\u001b[43m)\u001b[49m\n",
      "File \u001b[1;32m~\\anaconda3\\lib\\site-packages\\pandas\\core\\frame.py:9568\u001b[0m, in \u001b[0;36mDataFrame.apply\u001b[1;34m(self, func, axis, raw, result_type, args, **kwargs)\u001b[0m\n\u001b[0;32m   9557\u001b[0m \u001b[38;5;28;01mfrom\u001b[39;00m \u001b[38;5;21;01mpandas\u001b[39;00m\u001b[38;5;21;01m.\u001b[39;00m\u001b[38;5;21;01mcore\u001b[39;00m\u001b[38;5;21;01m.\u001b[39;00m\u001b[38;5;21;01mapply\u001b[39;00m \u001b[38;5;28;01mimport\u001b[39;00m frame_apply\n\u001b[0;32m   9559\u001b[0m op \u001b[38;5;241m=\u001b[39m frame_apply(\n\u001b[0;32m   9560\u001b[0m     \u001b[38;5;28mself\u001b[39m,\n\u001b[0;32m   9561\u001b[0m     func\u001b[38;5;241m=\u001b[39mfunc,\n\u001b[1;32m   (...)\u001b[0m\n\u001b[0;32m   9566\u001b[0m     kwargs\u001b[38;5;241m=\u001b[39mkwargs,\n\u001b[0;32m   9567\u001b[0m )\n\u001b[1;32m-> 9568\u001b[0m \u001b[38;5;28;01mreturn\u001b[39;00m \u001b[43mop\u001b[49m\u001b[38;5;241;43m.\u001b[39;49m\u001b[43mapply\u001b[49m\u001b[43m(\u001b[49m\u001b[43m)\u001b[49m\u001b[38;5;241m.\u001b[39m__finalize__(\u001b[38;5;28mself\u001b[39m, method\u001b[38;5;241m=\u001b[39m\u001b[38;5;124m\"\u001b[39m\u001b[38;5;124mapply\u001b[39m\u001b[38;5;124m\"\u001b[39m)\n",
      "File \u001b[1;32m~\\anaconda3\\lib\\site-packages\\pandas\\core\\apply.py:764\u001b[0m, in \u001b[0;36mFrameApply.apply\u001b[1;34m(self)\u001b[0m\n\u001b[0;32m    761\u001b[0m \u001b[38;5;28;01melif\u001b[39;00m \u001b[38;5;28mself\u001b[39m\u001b[38;5;241m.\u001b[39mraw:\n\u001b[0;32m    762\u001b[0m     \u001b[38;5;28;01mreturn\u001b[39;00m \u001b[38;5;28mself\u001b[39m\u001b[38;5;241m.\u001b[39mapply_raw()\n\u001b[1;32m--> 764\u001b[0m \u001b[38;5;28;01mreturn\u001b[39;00m \u001b[38;5;28;43mself\u001b[39;49m\u001b[38;5;241;43m.\u001b[39;49m\u001b[43mapply_standard\u001b[49m\u001b[43m(\u001b[49m\u001b[43m)\u001b[49m\n",
      "File \u001b[1;32m~\\anaconda3\\lib\\site-packages\\pandas\\core\\apply.py:891\u001b[0m, in \u001b[0;36mFrameApply.apply_standard\u001b[1;34m(self)\u001b[0m\n\u001b[0;32m    890\u001b[0m \u001b[38;5;28;01mdef\u001b[39;00m \u001b[38;5;21mapply_standard\u001b[39m(\u001b[38;5;28mself\u001b[39m):\n\u001b[1;32m--> 891\u001b[0m     results, res_index \u001b[38;5;241m=\u001b[39m \u001b[38;5;28;43mself\u001b[39;49m\u001b[38;5;241;43m.\u001b[39;49m\u001b[43mapply_series_generator\u001b[49m\u001b[43m(\u001b[49m\u001b[43m)\u001b[49m\n\u001b[0;32m    893\u001b[0m     \u001b[38;5;66;03m# wrap results\u001b[39;00m\n\u001b[0;32m    894\u001b[0m     \u001b[38;5;28;01mreturn\u001b[39;00m \u001b[38;5;28mself\u001b[39m\u001b[38;5;241m.\u001b[39mwrap_results(results, res_index)\n",
      "File \u001b[1;32m~\\anaconda3\\lib\\site-packages\\pandas\\core\\apply.py:907\u001b[0m, in \u001b[0;36mFrameApply.apply_series_generator\u001b[1;34m(self)\u001b[0m\n\u001b[0;32m    904\u001b[0m \u001b[38;5;28;01mwith\u001b[39;00m option_context(\u001b[38;5;124m\"\u001b[39m\u001b[38;5;124mmode.chained_assignment\u001b[39m\u001b[38;5;124m\"\u001b[39m, \u001b[38;5;28;01mNone\u001b[39;00m):\n\u001b[0;32m    905\u001b[0m     \u001b[38;5;28;01mfor\u001b[39;00m i, v \u001b[38;5;129;01min\u001b[39;00m \u001b[38;5;28menumerate\u001b[39m(series_gen):\n\u001b[0;32m    906\u001b[0m         \u001b[38;5;66;03m# ignore SettingWithCopy here in case the user mutates\u001b[39;00m\n\u001b[1;32m--> 907\u001b[0m         results[i] \u001b[38;5;241m=\u001b[39m \u001b[38;5;28;43mself\u001b[39;49m\u001b[38;5;241;43m.\u001b[39;49m\u001b[43mf\u001b[49m\u001b[43m(\u001b[49m\u001b[43mv\u001b[49m\u001b[43m)\u001b[49m\n\u001b[0;32m    908\u001b[0m         \u001b[38;5;28;01mif\u001b[39;00m \u001b[38;5;28misinstance\u001b[39m(results[i], ABCSeries):\n\u001b[0;32m    909\u001b[0m             \u001b[38;5;66;03m# If we have a view on v, we need to make a copy because\u001b[39;00m\n\u001b[0;32m    910\u001b[0m             \u001b[38;5;66;03m#  series_generator will swap out the underlying data\u001b[39;00m\n\u001b[0;32m    911\u001b[0m             results[i] \u001b[38;5;241m=\u001b[39m results[i]\u001b[38;5;241m.\u001b[39mcopy(deep\u001b[38;5;241m=\u001b[39m\u001b[38;5;28;01mFalse\u001b[39;00m)\n",
      "File \u001b[1;32m~\\anaconda3\\lib\\site-packages\\fastai\\tabular\\core.py:128\u001b[0m, in \u001b[0;36mdf_shrink\u001b[1;34m(df, skip, obj2cat, int2uint)\u001b[0m\n\u001b[0;32m    126\u001b[0m \u001b[38;5;28;01mdef\u001b[39;00m \u001b[38;5;21mdf_shrink\u001b[39m(df, skip\u001b[38;5;241m=\u001b[39m[], obj2cat\u001b[38;5;241m=\u001b[39m\u001b[38;5;28;01mTrue\u001b[39;00m, int2uint\u001b[38;5;241m=\u001b[39m\u001b[38;5;28;01mFalse\u001b[39;00m):\n\u001b[0;32m    127\u001b[0m     \u001b[38;5;124m\"\u001b[39m\u001b[38;5;124mReduce DataFrame memory usage, by casting to smaller types returned by `df_shrink_dtypes()`.\u001b[39m\u001b[38;5;124m\"\u001b[39m\n\u001b[1;32m--> 128\u001b[0m     dt \u001b[38;5;241m=\u001b[39m \u001b[43mdf_shrink_dtypes\u001b[49m\u001b[43m(\u001b[49m\u001b[43mdf\u001b[49m\u001b[43m,\u001b[49m\u001b[43m \u001b[49m\u001b[43mskip\u001b[49m\u001b[43m,\u001b[49m\u001b[43m \u001b[49m\u001b[43mobj2cat\u001b[49m\u001b[38;5;241;43m=\u001b[39;49m\u001b[43mobj2cat\u001b[49m\u001b[43m,\u001b[49m\u001b[43m \u001b[49m\u001b[43mint2uint\u001b[49m\u001b[38;5;241;43m=\u001b[39;49m\u001b[43mint2uint\u001b[49m\u001b[43m)\u001b[49m\n\u001b[0;32m    129\u001b[0m     \u001b[38;5;28;01mreturn\u001b[39;00m df\u001b[38;5;241m.\u001b[39mastype(dt)\n",
      "File \u001b[1;32m~\\anaconda3\\lib\\site-packages\\fastai\\tabular\\core.py:113\u001b[0m, in \u001b[0;36mdf_shrink_dtypes\u001b[1;34m(df, skip, obj2cat, int2uint)\u001b[0m\n\u001b[0;32m    110\u001b[0m new_dtypes \u001b[38;5;241m=\u001b[39m {}\n\u001b[0;32m    111\u001b[0m exclude \u001b[38;5;241m=\u001b[39m \u001b[38;5;28;01mlambda\u001b[39;00m dt: dt[\u001b[38;5;241m1\u001b[39m]\u001b[38;5;241m.\u001b[39mname \u001b[38;5;129;01mnot\u001b[39;00m \u001b[38;5;129;01min\u001b[39;00m excl_types \u001b[38;5;129;01mand\u001b[39;00m dt[\u001b[38;5;241m0\u001b[39m] \u001b[38;5;129;01mnot\u001b[39;00m \u001b[38;5;129;01min\u001b[39;00m skip\n\u001b[1;32m--> 113\u001b[0m \u001b[38;5;28;01mfor\u001b[39;00m c, old_t \u001b[38;5;129;01min\u001b[39;00m \u001b[38;5;28mfilter\u001b[39m(exclude, \u001b[43mdf\u001b[49m\u001b[38;5;241;43m.\u001b[39;49m\u001b[43mdtypes\u001b[49m\u001b[38;5;241;43m.\u001b[39;49m\u001b[43mitems\u001b[49m()):\n\u001b[0;32m    114\u001b[0m     t \u001b[38;5;241m=\u001b[39m \u001b[38;5;28mnext\u001b[39m((v \u001b[38;5;28;01mfor\u001b[39;00m k,v \u001b[38;5;129;01min\u001b[39;00m typemap\u001b[38;5;241m.\u001b[39mitems() \u001b[38;5;28;01mif\u001b[39;00m old_t\u001b[38;5;241m.\u001b[39mname\u001b[38;5;241m.\u001b[39mstartswith(k)), \u001b[38;5;28;01mNone\u001b[39;00m)\n\u001b[0;32m    116\u001b[0m     \u001b[38;5;28;01mif\u001b[39;00m \u001b[38;5;28misinstance\u001b[39m(t, \u001b[38;5;28mlist\u001b[39m): \u001b[38;5;66;03m# Find the smallest type that fits\u001b[39;00m\n",
      "\u001b[1;31mAttributeError\u001b[0m: 'numpy.dtype[float64]' object has no attribute 'items'"
     ]
    }
   ],
   "source": [
    "df = df.apply(df_shrink)"
   ]
  },
  {
   "cell_type": "code",
   "execution_count": 15,
   "id": "48d692ea",
   "metadata": {},
   "outputs": [
    {
     "data": {
      "text/html": [
       "\n",
       "<style>\n",
       "    /* Turns off some styling */\n",
       "    progress {\n",
       "        /* gets rid of default border in Firefox and Opera. */\n",
       "        border: none;\n",
       "        /* Needs to be in here for Safari polyfill so background images work as expected. */\n",
       "        background-size: auto;\n",
       "    }\n",
       "    progress:not([value]), progress:not([value])::-webkit-progress-bar {\n",
       "        background: repeating-linear-gradient(45deg, #7e7e7e, #7e7e7e 10px, #5c5c5c 10px, #5c5c5c 20px);\n",
       "    }\n",
       "    .progress-bar-interrupted, .progress-bar-interrupted::-webkit-progress-bar {\n",
       "        background: #F44336;\n",
       "    }\n",
       "</style>\n"
      ],
      "text/plain": [
       "<IPython.core.display.HTML object>"
      ]
     },
     "metadata": {},
     "output_type": "display_data"
    },
    {
     "data": {
      "text/html": [],
      "text/plain": [
       "<IPython.core.display.HTML object>"
      ]
     },
     "metadata": {},
     "output_type": "display_data"
    },
    {
     "ename": "AttributeError",
     "evalue": "'str' object has no attribute 'dtypes'",
     "output_type": "error",
     "traceback": [
      "\u001b[1;31m---------------------------------------------------------------------------\u001b[0m",
      "\u001b[1;31m_RemoteTraceback\u001b[0m                          Traceback (most recent call last)",
      "\u001b[1;31m_RemoteTraceback\u001b[0m: \n\"\"\"\nTraceback (most recent call last):\n  File \"C:\\Users\\Ankit\\anaconda3\\lib\\concurrent\\futures\\process.py\", line 246, in _process_worker\n    r = call_item.fn(*call_item.args, **call_item.kwargs)\n  File \"C:\\Users\\Ankit\\anaconda3\\lib\\concurrent\\futures\\process.py\", line 205, in _process_chunk\n    return [fn(*args) for args in chunk]\n  File \"C:\\Users\\Ankit\\anaconda3\\lib\\concurrent\\futures\\process.py\", line 205, in <listcomp>\n    return [fn(*args) for args in chunk]\n  File \"C:\\Users\\Ankit\\anaconda3\\lib\\site-packages\\fastcore\\parallel.py\", line 46, in _call\n    return g(item)\n  File \"C:\\Users\\Ankit\\anaconda3\\lib\\site-packages\\fastai\\tabular\\core.py\", line 128, in df_shrink\n    dt = df_shrink_dtypes(df, skip, obj2cat=obj2cat, int2uint=int2uint)\n  File \"C:\\Users\\Ankit\\anaconda3\\lib\\site-packages\\fastai\\tabular\\core.py\", line 113, in df_shrink_dtypes\n    for c, old_t in filter(exclude, df.dtypes.items()):\nAttributeError: 'str' object has no attribute 'dtypes'\n\"\"\"",
      "\nThe above exception was the direct cause of the following exception:\n",
      "\u001b[1;31mAttributeError\u001b[0m                            Traceback (most recent call last)",
      "Cell \u001b[1;32mIn[15], line 1\u001b[0m\n\u001b[1;32m----> 1\u001b[0m df \u001b[38;5;241m=\u001b[39m \u001b[43mparallel\u001b[49m\u001b[43m(\u001b[49m\u001b[43mf\u001b[49m\u001b[38;5;241;43m=\u001b[39;49m\u001b[43mdf_shrink\u001b[49m\u001b[43m,\u001b[49m\u001b[43m \u001b[49m\u001b[43mitems\u001b[49m\u001b[38;5;241;43m=\u001b[39;49m\u001b[43mdf\u001b[49m\u001b[43m,\u001b[49m\u001b[43m \u001b[49m\u001b[43mprogress\u001b[49m\u001b[38;5;241;43m=\u001b[39;49m\u001b[38;5;28;43;01mTrue\u001b[39;49;00m\u001b[43m)\u001b[49m\n",
      "File \u001b[1;32m~\\anaconda3\\lib\\site-packages\\fastcore\\parallel.py:117\u001b[0m, in \u001b[0;36mparallel\u001b[1;34m(f, items, n_workers, total, progress, pause, method, threadpool, timeout, chunksize, *args, **kwargs)\u001b[0m\n\u001b[0;32m    115\u001b[0m     \u001b[38;5;28;01mif\u001b[39;00m total \u001b[38;5;129;01mis\u001b[39;00m \u001b[38;5;28;01mNone\u001b[39;00m: total \u001b[38;5;241m=\u001b[39m \u001b[38;5;28mlen\u001b[39m(items)\n\u001b[0;32m    116\u001b[0m     r \u001b[38;5;241m=\u001b[39m progress_bar(r, total\u001b[38;5;241m=\u001b[39mtotal, leave\u001b[38;5;241m=\u001b[39m\u001b[38;5;28;01mFalse\u001b[39;00m)\n\u001b[1;32m--> 117\u001b[0m \u001b[38;5;28;01mreturn\u001b[39;00m \u001b[43mL\u001b[49m\u001b[43m(\u001b[49m\u001b[43mr\u001b[49m\u001b[43m)\u001b[49m\n",
      "File \u001b[1;32m~\\anaconda3\\lib\\site-packages\\fastcore\\foundation.py:98\u001b[0m, in \u001b[0;36m_L_Meta.__call__\u001b[1;34m(cls, x, *args, **kwargs)\u001b[0m\n\u001b[0;32m     96\u001b[0m \u001b[38;5;28;01mdef\u001b[39;00m \u001b[38;5;21m__call__\u001b[39m(\u001b[38;5;28mcls\u001b[39m, x\u001b[38;5;241m=\u001b[39m\u001b[38;5;28;01mNone\u001b[39;00m, \u001b[38;5;241m*\u001b[39margs, \u001b[38;5;241m*\u001b[39m\u001b[38;5;241m*\u001b[39mkwargs):\n\u001b[0;32m     97\u001b[0m     \u001b[38;5;28;01mif\u001b[39;00m \u001b[38;5;129;01mnot\u001b[39;00m args \u001b[38;5;129;01mand\u001b[39;00m \u001b[38;5;129;01mnot\u001b[39;00m kwargs \u001b[38;5;129;01mand\u001b[39;00m x \u001b[38;5;129;01mis\u001b[39;00m \u001b[38;5;129;01mnot\u001b[39;00m \u001b[38;5;28;01mNone\u001b[39;00m \u001b[38;5;129;01mand\u001b[39;00m \u001b[38;5;28misinstance\u001b[39m(x,\u001b[38;5;28mcls\u001b[39m): \u001b[38;5;28;01mreturn\u001b[39;00m x\n\u001b[1;32m---> 98\u001b[0m     \u001b[38;5;28;01mreturn\u001b[39;00m \u001b[38;5;28msuper\u001b[39m()\u001b[38;5;241m.\u001b[39m\u001b[38;5;21m__call__\u001b[39m(x, \u001b[38;5;241m*\u001b[39margs, \u001b[38;5;241m*\u001b[39m\u001b[38;5;241m*\u001b[39mkwargs)\n",
      "File \u001b[1;32m~\\anaconda3\\lib\\site-packages\\fastcore\\foundation.py:106\u001b[0m, in \u001b[0;36mL.__init__\u001b[1;34m(self, items, use_list, match, *rest)\u001b[0m\n\u001b[0;32m    104\u001b[0m \u001b[38;5;28;01mdef\u001b[39;00m \u001b[38;5;21m__init__\u001b[39m(\u001b[38;5;28mself\u001b[39m, items\u001b[38;5;241m=\u001b[39m\u001b[38;5;28;01mNone\u001b[39;00m, \u001b[38;5;241m*\u001b[39mrest, use_list\u001b[38;5;241m=\u001b[39m\u001b[38;5;28;01mFalse\u001b[39;00m, match\u001b[38;5;241m=\u001b[39m\u001b[38;5;28;01mNone\u001b[39;00m):\n\u001b[0;32m    105\u001b[0m     \u001b[38;5;28;01mif\u001b[39;00m (use_list \u001b[38;5;129;01mis\u001b[39;00m \u001b[38;5;129;01mnot\u001b[39;00m \u001b[38;5;28;01mNone\u001b[39;00m) \u001b[38;5;129;01mor\u001b[39;00m \u001b[38;5;129;01mnot\u001b[39;00m is_array(items):\n\u001b[1;32m--> 106\u001b[0m         items \u001b[38;5;241m=\u001b[39m \u001b[43mlistify\u001b[49m\u001b[43m(\u001b[49m\u001b[43mitems\u001b[49m\u001b[43m,\u001b[49m\u001b[43m \u001b[49m\u001b[38;5;241;43m*\u001b[39;49m\u001b[43mrest\u001b[49m\u001b[43m,\u001b[49m\u001b[43m \u001b[49m\u001b[43muse_list\u001b[49m\u001b[38;5;241;43m=\u001b[39;49m\u001b[43muse_list\u001b[49m\u001b[43m,\u001b[49m\u001b[43m \u001b[49m\u001b[43mmatch\u001b[49m\u001b[38;5;241;43m=\u001b[39;49m\u001b[43mmatch\u001b[49m\u001b[43m)\u001b[49m\n\u001b[0;32m    107\u001b[0m     \u001b[38;5;28msuper\u001b[39m()\u001b[38;5;241m.\u001b[39m\u001b[38;5;21m__init__\u001b[39m(items)\n",
      "File \u001b[1;32m~\\anaconda3\\lib\\site-packages\\fastcore\\basics.py:66\u001b[0m, in \u001b[0;36mlistify\u001b[1;34m(o, use_list, match, *rest)\u001b[0m\n\u001b[0;32m     64\u001b[0m \u001b[38;5;28;01melif\u001b[39;00m \u001b[38;5;28misinstance\u001b[39m(o, \u001b[38;5;28mlist\u001b[39m): res \u001b[38;5;241m=\u001b[39m o\n\u001b[0;32m     65\u001b[0m \u001b[38;5;28;01melif\u001b[39;00m \u001b[38;5;28misinstance\u001b[39m(o, \u001b[38;5;28mstr\u001b[39m) \u001b[38;5;129;01mor\u001b[39;00m is_array(o): res \u001b[38;5;241m=\u001b[39m [o]\n\u001b[1;32m---> 66\u001b[0m \u001b[38;5;28;01melif\u001b[39;00m is_iter(o): res \u001b[38;5;241m=\u001b[39m \u001b[38;5;28;43mlist\u001b[39;49m\u001b[43m(\u001b[49m\u001b[43mo\u001b[49m\u001b[43m)\u001b[49m\n\u001b[0;32m     67\u001b[0m \u001b[38;5;28;01melse\u001b[39;00m: res \u001b[38;5;241m=\u001b[39m [o]\n\u001b[0;32m     68\u001b[0m \u001b[38;5;28;01mif\u001b[39;00m match \u001b[38;5;129;01mis\u001b[39;00m \u001b[38;5;129;01mnot\u001b[39;00m \u001b[38;5;28;01mNone\u001b[39;00m:\n",
      "File \u001b[1;32m~\\anaconda3\\lib\\site-packages\\fastprogress\\fastprogress.py:50\u001b[0m, in \u001b[0;36mProgressBar.__iter__\u001b[1;34m(self)\u001b[0m\n\u001b[0;32m     48\u001b[0m \u001b[38;5;28;01mexcept\u001b[39;00m \u001b[38;5;167;01mException\u001b[39;00m \u001b[38;5;28;01mas\u001b[39;00m e:\n\u001b[0;32m     49\u001b[0m     \u001b[38;5;28mself\u001b[39m\u001b[38;5;241m.\u001b[39mon_interrupt()\n\u001b[1;32m---> 50\u001b[0m     \u001b[38;5;28;01mraise\u001b[39;00m e\n",
      "File \u001b[1;32m~\\anaconda3\\lib\\site-packages\\fastprogress\\fastprogress.py:41\u001b[0m, in \u001b[0;36mProgressBar.__iter__\u001b[1;34m(self)\u001b[0m\n\u001b[0;32m     39\u001b[0m \u001b[38;5;28;01mif\u001b[39;00m \u001b[38;5;28mself\u001b[39m\u001b[38;5;241m.\u001b[39mtotal \u001b[38;5;241m!=\u001b[39m \u001b[38;5;241m0\u001b[39m: \u001b[38;5;28mself\u001b[39m\u001b[38;5;241m.\u001b[39mupdate(\u001b[38;5;241m0\u001b[39m)\n\u001b[0;32m     40\u001b[0m \u001b[38;5;28;01mtry\u001b[39;00m:\n\u001b[1;32m---> 41\u001b[0m     \u001b[38;5;28;01mfor\u001b[39;00m i,o \u001b[38;5;129;01min\u001b[39;00m \u001b[38;5;28menumerate\u001b[39m(\u001b[38;5;28mself\u001b[39m\u001b[38;5;241m.\u001b[39mgen):\n\u001b[0;32m     42\u001b[0m         \u001b[38;5;28;01mif\u001b[39;00m \u001b[38;5;28mself\u001b[39m\u001b[38;5;241m.\u001b[39mtotal \u001b[38;5;129;01mand\u001b[39;00m i \u001b[38;5;241m>\u001b[39m\u001b[38;5;241m=\u001b[39m \u001b[38;5;28mself\u001b[39m\u001b[38;5;241m.\u001b[39mtotal: \u001b[38;5;28;01mbreak\u001b[39;00m\n\u001b[0;32m     43\u001b[0m         \u001b[38;5;28;01myield\u001b[39;00m o\n",
      "File \u001b[1;32m~\\anaconda3\\lib\\concurrent\\futures\\process.py:570\u001b[0m, in \u001b[0;36m_chain_from_iterable_of_lists\u001b[1;34m(iterable)\u001b[0m\n\u001b[0;32m    564\u001b[0m \u001b[38;5;28;01mdef\u001b[39;00m \u001b[38;5;21m_chain_from_iterable_of_lists\u001b[39m(iterable):\n\u001b[0;32m    565\u001b[0m     \u001b[38;5;124;03m\"\"\"\u001b[39;00m\n\u001b[0;32m    566\u001b[0m \u001b[38;5;124;03m    Specialized implementation of itertools.chain.from_iterable.\u001b[39;00m\n\u001b[0;32m    567\u001b[0m \u001b[38;5;124;03m    Each item in *iterable* should be a list.  This function is\u001b[39;00m\n\u001b[0;32m    568\u001b[0m \u001b[38;5;124;03m    careful not to keep references to yielded objects.\u001b[39;00m\n\u001b[0;32m    569\u001b[0m \u001b[38;5;124;03m    \"\"\"\u001b[39;00m\n\u001b[1;32m--> 570\u001b[0m     \u001b[38;5;28;01mfor\u001b[39;00m element \u001b[38;5;129;01min\u001b[39;00m iterable:\n\u001b[0;32m    571\u001b[0m         element\u001b[38;5;241m.\u001b[39mreverse()\n\u001b[0;32m    572\u001b[0m         \u001b[38;5;28;01mwhile\u001b[39;00m element:\n",
      "File \u001b[1;32m~\\anaconda3\\lib\\concurrent\\futures\\_base.py:621\u001b[0m, in \u001b[0;36mExecutor.map.<locals>.result_iterator\u001b[1;34m()\u001b[0m\n\u001b[0;32m    618\u001b[0m \u001b[38;5;28;01mwhile\u001b[39;00m fs:\n\u001b[0;32m    619\u001b[0m     \u001b[38;5;66;03m# Careful not to keep a reference to the popped future\u001b[39;00m\n\u001b[0;32m    620\u001b[0m     \u001b[38;5;28;01mif\u001b[39;00m timeout \u001b[38;5;129;01mis\u001b[39;00m \u001b[38;5;28;01mNone\u001b[39;00m:\n\u001b[1;32m--> 621\u001b[0m         \u001b[38;5;28;01myield\u001b[39;00m \u001b[43m_result_or_cancel\u001b[49m\u001b[43m(\u001b[49m\u001b[43mfs\u001b[49m\u001b[38;5;241;43m.\u001b[39;49m\u001b[43mpop\u001b[49m\u001b[43m(\u001b[49m\u001b[43m)\u001b[49m\u001b[43m)\u001b[49m\n\u001b[0;32m    622\u001b[0m     \u001b[38;5;28;01melse\u001b[39;00m:\n\u001b[0;32m    623\u001b[0m         \u001b[38;5;28;01myield\u001b[39;00m _result_or_cancel(fs\u001b[38;5;241m.\u001b[39mpop(), end_time \u001b[38;5;241m-\u001b[39m time\u001b[38;5;241m.\u001b[39mmonotonic())\n",
      "File \u001b[1;32m~\\anaconda3\\lib\\concurrent\\futures\\_base.py:319\u001b[0m, in \u001b[0;36m_result_or_cancel\u001b[1;34m(***failed resolving arguments***)\u001b[0m\n\u001b[0;32m    317\u001b[0m \u001b[38;5;28;01mtry\u001b[39;00m:\n\u001b[0;32m    318\u001b[0m     \u001b[38;5;28;01mtry\u001b[39;00m:\n\u001b[1;32m--> 319\u001b[0m         \u001b[38;5;28;01mreturn\u001b[39;00m \u001b[43mfut\u001b[49m\u001b[38;5;241;43m.\u001b[39;49m\u001b[43mresult\u001b[49m\u001b[43m(\u001b[49m\u001b[43mtimeout\u001b[49m\u001b[43m)\u001b[49m\n\u001b[0;32m    320\u001b[0m     \u001b[38;5;28;01mfinally\u001b[39;00m:\n\u001b[0;32m    321\u001b[0m         fut\u001b[38;5;241m.\u001b[39mcancel()\n",
      "File \u001b[1;32m~\\anaconda3\\lib\\concurrent\\futures\\_base.py:458\u001b[0m, in \u001b[0;36mFuture.result\u001b[1;34m(self, timeout)\u001b[0m\n\u001b[0;32m    456\u001b[0m     \u001b[38;5;28;01mraise\u001b[39;00m CancelledError()\n\u001b[0;32m    457\u001b[0m \u001b[38;5;28;01melif\u001b[39;00m \u001b[38;5;28mself\u001b[39m\u001b[38;5;241m.\u001b[39m_state \u001b[38;5;241m==\u001b[39m FINISHED:\n\u001b[1;32m--> 458\u001b[0m     \u001b[38;5;28;01mreturn\u001b[39;00m \u001b[38;5;28;43mself\u001b[39;49m\u001b[38;5;241;43m.\u001b[39;49m\u001b[43m__get_result\u001b[49m\u001b[43m(\u001b[49m\u001b[43m)\u001b[49m\n\u001b[0;32m    459\u001b[0m \u001b[38;5;28;01melse\u001b[39;00m:\n\u001b[0;32m    460\u001b[0m     \u001b[38;5;28;01mraise\u001b[39;00m \u001b[38;5;167;01mTimeoutError\u001b[39;00m()\n",
      "File \u001b[1;32m~\\anaconda3\\lib\\concurrent\\futures\\_base.py:403\u001b[0m, in \u001b[0;36mFuture.__get_result\u001b[1;34m(self)\u001b[0m\n\u001b[0;32m    401\u001b[0m \u001b[38;5;28;01mif\u001b[39;00m \u001b[38;5;28mself\u001b[39m\u001b[38;5;241m.\u001b[39m_exception:\n\u001b[0;32m    402\u001b[0m     \u001b[38;5;28;01mtry\u001b[39;00m:\n\u001b[1;32m--> 403\u001b[0m         \u001b[38;5;28;01mraise\u001b[39;00m \u001b[38;5;28mself\u001b[39m\u001b[38;5;241m.\u001b[39m_exception\n\u001b[0;32m    404\u001b[0m     \u001b[38;5;28;01mfinally\u001b[39;00m:\n\u001b[0;32m    405\u001b[0m         \u001b[38;5;66;03m# Break a reference cycle with the exception in self._exception\u001b[39;00m\n\u001b[0;32m    406\u001b[0m         \u001b[38;5;28mself\u001b[39m \u001b[38;5;241m=\u001b[39m \u001b[38;5;28;01mNone\u001b[39;00m\n",
      "\u001b[1;31mAttributeError\u001b[0m: 'str' object has no attribute 'dtypes'"
     ]
    }
   ],
   "source": [
    "df = parallel(f=df_shrink, items=df, progress=True)"
   ]
  },
  {
   "cell_type": "code",
   "execution_count": null,
   "id": "7e05d870",
   "metadata": {},
   "outputs": [],
   "source": [
    "df.dtypes"
   ]
  },
  {
   "cell_type": "markdown",
   "id": "82eb00ef",
   "metadata": {},
   "source": [
    "## Removing NaN"
   ]
  },
  {
   "cell_type": "code",
   "execution_count": 12,
   "id": "fb7fc8ee",
   "metadata": {},
   "outputs": [],
   "source": [
    "df.replace([np.inf, -np.inf], np.nan, inplace=True)    \n",
    "# print(df.isna().any(axis=1).sum(), \"rows with at least one NaN to remove\")\n",
    "df.dropna(inplace=True) "
   ]
  },
  {
   "cell_type": "code",
   "execution_count": 13,
   "id": "14c94ab5",
   "metadata": {},
   "outputs": [
    {
     "data": {
      "text/plain": [
       "(2827876, 78)"
      ]
     },
     "execution_count": 13,
     "metadata": {},
     "output_type": "execute_result"
    }
   ],
   "source": [
    "df.shape"
   ]
  },
  {
   "cell_type": "code",
   "execution_count": 14,
   "id": "03827564",
   "metadata": {},
   "outputs": [
    {
     "data": {
      "text/plain": [
       "<bound method NDFrame.head of          Protocol  Flow Duration  Total Fwd Packets  Total Backward Packets  \\\n",
       "0             6.0       143347.0               47.0                    60.0   \n",
       "1             6.0        50905.0                1.0                     1.0   \n",
       "2             6.0       143899.0               46.0                    58.0   \n",
       "3            17.0          313.0                2.0                     2.0   \n",
       "4             6.0       142605.0               45.0                    58.0   \n",
       "...           ...            ...                ...                     ...   \n",
       "3119340      17.0        32215.0                4.0                     2.0   \n",
       "3119341      17.0          324.0                2.0                     2.0   \n",
       "3119342       6.0           82.0                2.0                     1.0   \n",
       "3119343      17.0      1048635.0                6.0                     2.0   \n",
       "3119344      17.0        94939.0                4.0                     2.0   \n",
       "\n",
       "         Fwd Packets Length Total  Bwd Packets Length Total  \\\n",
       "0                          1325.0                  108751.0   \n",
       "1                             0.0                       0.0   \n",
       "2                          1325.0                  110185.0   \n",
       "3                            90.0                     206.0   \n",
       "4                          1325.0                  108751.0   \n",
       "...                           ...                       ...   \n",
       "3119340                     112.0                     152.0   \n",
       "3119341                      84.0                     362.0   \n",
       "3119342                      31.0                       6.0   \n",
       "3119343                     192.0                     256.0   \n",
       "3119344                     188.0                     226.0   \n",
       "\n",
       "         Fwd Packet Length Max  Fwd Packet Length Min  Fwd Packet Length Mean  \\\n",
       "0                        570.0                    0.0               28.191489   \n",
       "1                          0.0                    0.0                0.000000   \n",
       "2                        570.0                    0.0               28.804348   \n",
       "3                         45.0                   45.0               45.000000   \n",
       "4                        570.0                    0.0               29.444444   \n",
       "...                        ...                    ...                     ...   \n",
       "3119340                   28.0                   28.0               28.000000   \n",
       "3119341                   42.0                   42.0               42.000000   \n",
       "3119342                   31.0                    0.0               15.500000   \n",
       "3119343                   32.0                   32.0               32.000000   \n",
       "3119344                   47.0                   47.0               47.000000   \n",
       "\n",
       "         Fwd Packet Length Std  ...  Fwd Seg Size Min  Active Mean  \\\n",
       "0                   110.269756  ...              20.0          0.0   \n",
       "1                     0.000000  ...              32.0          0.0   \n",
       "2                   111.407285  ...              20.0          0.0   \n",
       "3                     0.000000  ...              20.0          0.0   \n",
       "4                   112.580588  ...              20.0          0.0   \n",
       "...                        ...  ...               ...          ...   \n",
       "3119340               0.000000  ...              20.0          0.0   \n",
       "3119341               0.000000  ...              20.0          0.0   \n",
       "3119342              21.920310  ...              32.0          0.0   \n",
       "3119343               0.000000  ...              20.0          0.0   \n",
       "3119344               0.000000  ...              20.0          0.0   \n",
       "\n",
       "         Active Std  Active Max  Active Min  Idle Mean  Idle Std  Idle Max  \\\n",
       "0               0.0         0.0         0.0        0.0       0.0       0.0   \n",
       "1               0.0         0.0         0.0        0.0       0.0       0.0   \n",
       "2               0.0         0.0         0.0        0.0       0.0       0.0   \n",
       "3               0.0         0.0         0.0        0.0       0.0       0.0   \n",
       "4               0.0         0.0         0.0        0.0       0.0       0.0   \n",
       "...             ...         ...         ...        ...       ...       ...   \n",
       "3119340         0.0         0.0         0.0        0.0       0.0       0.0   \n",
       "3119341         0.0         0.0         0.0        0.0       0.0       0.0   \n",
       "3119342         0.0         0.0         0.0        0.0       0.0       0.0   \n",
       "3119343         0.0         0.0         0.0        0.0       0.0       0.0   \n",
       "3119344         0.0         0.0         0.0        0.0       0.0       0.0   \n",
       "\n",
       "         Idle Min   Label  \n",
       "0             0.0  Benign  \n",
       "1             0.0  Benign  \n",
       "2             0.0  Benign  \n",
       "3             0.0  Benign  \n",
       "4             0.0  Benign  \n",
       "...           ...     ...  \n",
       "3119340       0.0  Benign  \n",
       "3119341       0.0  Benign  \n",
       "3119342       0.0  Benign  \n",
       "3119343       0.0  Benign  \n",
       "3119344       0.0  Benign  \n",
       "\n",
       "[2827876 rows x 78 columns]>"
      ]
     },
     "execution_count": 14,
     "metadata": {},
     "output_type": "execute_result"
    }
   ],
   "source": [
    "df.head"
   ]
  },
  {
   "cell_type": "code",
   "execution_count": 15,
   "id": "2c4865cd",
   "metadata": {},
   "outputs": [
    {
     "name": "stdout",
     "output_type": "stream",
     "text": [
      "Unique values in the 'Label' column:\n",
      "['Benign' 'DDoS' 'PortScan' 'Bot' 'Infiltration'\n",
      " 'Web Attack – Brute Force' 'Web Attack – XSS'\n",
      " 'Web Attack – Sql Injection' 'FTP-Patator' 'SSH-Patator' 'DoS slowloris'\n",
      " 'DoS Slowhttptest' 'DoS Hulk' 'DoS GoldenEye' 'Heartbleed']\n",
      "15\n"
     ]
    }
   ],
   "source": [
    "unique_values = df['Label'].unique()\n",
    "unique_count = df['Label'].nunique()\n",
    "print(\"Unique values in the 'Label' column:\")\n",
    "print(unique_values)\n",
    "print(unique_count)"
   ]
  },
  {
   "cell_type": "code",
   "execution_count": 16,
   "id": "1a27cad2",
   "metadata": {},
   "outputs": [
    {
     "name": "stdout",
     "output_type": "stream",
     "text": [
      "<class 'pandas.core.frame.DataFrame'>\n"
     ]
    }
   ],
   "source": [
    "print(type(df))"
   ]
  },
  {
   "cell_type": "code",
   "execution_count": 17,
   "id": "98880e50",
   "metadata": {},
   "outputs": [
    {
     "name": "stdout",
     "output_type": "stream",
     "text": [
      "Sorted DataFrame:\n",
      "         Protocol  Flow Duration  Total Fwd Packets  Total Backward Packets  \\\n",
      "0             6.0       143347.0               47.0                    60.0   \n",
      "2000128       6.0       230464.0               18.0                    20.0   \n",
      "2000129       6.0        34751.0                3.0                     1.0   \n",
      "2000130       6.0      5695992.0                3.0                     1.0   \n",
      "2000131       6.0      5839473.0                9.0                     7.0   \n",
      "...           ...            ...                ...                     ...   \n",
      "1598682       6.0     68150616.0              203.0                   114.0   \n",
      "1598689       6.0      5237597.0                3.0                     1.0   \n",
      "1598700       6.0      5987888.0                3.0                     1.0   \n",
      "1598043       6.0      5409301.0                3.0                     1.0   \n",
      "1606169       6.0      5407563.0                3.0                     1.0   \n",
      "\n",
      "         Fwd Packets Length Total  Bwd Packets Length Total  \\\n",
      "0                          1325.0                  108751.0   \n",
      "2000128                     856.0                   18747.0   \n",
      "2000129                      46.0                       0.0   \n",
      "2000130                       0.0                       0.0   \n",
      "2000131                     591.0                    4490.0   \n",
      "...                           ...                       ...   \n",
      "1598682                   48783.0                  183606.0   \n",
      "1598689                       0.0                       0.0   \n",
      "1598700                       0.0                       0.0   \n",
      "1598043                       0.0                       0.0   \n",
      "1606169                       0.0                       0.0   \n",
      "\n",
      "         Fwd Packet Length Max  Fwd Packet Length Min  Fwd Packet Length Mean  \\\n",
      "0                        570.0                    0.0               28.191489   \n",
      "2000128                  293.0                    0.0               47.555556   \n",
      "2000129                   46.0                    0.0               15.333333   \n",
      "2000130                    0.0                    0.0                0.000000   \n",
      "2000131                  342.0                    0.0               65.666667   \n",
      "...                        ...                    ...                     ...   \n",
      "1598682                  585.0                    0.0              240.310345   \n",
      "1598689                    0.0                    0.0                0.000000   \n",
      "1598700                    0.0                    0.0                0.000000   \n",
      "1598043                    0.0                    0.0                0.000000   \n",
      "1606169                    0.0                    0.0                0.000000   \n",
      "\n",
      "         Fwd Packet Length Std  ...  Fwd Seg Size Min  Active Mean  \\\n",
      "0                   110.269756  ...              20.0          0.0   \n",
      "2000128              84.625279  ...              20.0          0.0   \n",
      "2000129              26.558112  ...              20.0          0.0   \n",
      "2000130               0.000000  ...              20.0          0.0   \n",
      "2000131             122.157685  ...              20.0     325310.0   \n",
      "...                        ...  ...               ...          ...   \n",
      "1598682             252.407511  ...              32.0          0.0   \n",
      "1598689               0.000000  ...              32.0          0.0   \n",
      "1598700               0.000000  ...              32.0          0.0   \n",
      "1598043               0.000000  ...              32.0          0.0   \n",
      "1606169               0.000000  ...              32.0          0.0   \n",
      "\n",
      "         Active Std  Active Max  Active Min  Idle Mean  Idle Std   Idle Max  \\\n",
      "0               0.0         0.0         0.0        0.0       0.0        0.0   \n",
      "2000128         0.0         0.0         0.0        0.0       0.0        0.0   \n",
      "2000129         0.0         0.0         0.0        0.0       0.0        0.0   \n",
      "2000130         0.0         0.0         0.0        0.0       0.0        0.0   \n",
      "2000131         0.0    325310.0    325310.0  5514160.0       0.0  5514160.0   \n",
      "...             ...         ...         ...        ...       ...        ...   \n",
      "1598682         0.0         0.0         0.0        0.0       0.0        0.0   \n",
      "1598689         0.0         0.0         0.0        0.0       0.0        0.0   \n",
      "1598700         0.0         0.0         0.0        0.0       0.0        0.0   \n",
      "1598043         0.0         0.0         0.0        0.0       0.0        0.0   \n",
      "1606169         0.0         0.0         0.0        0.0       0.0        0.0   \n",
      "\n",
      "          Idle Min             Label  \n",
      "0              0.0            Benign  \n",
      "2000128        0.0            Benign  \n",
      "2000129        0.0            Benign  \n",
      "2000130        0.0            Benign  \n",
      "2000131  5514160.0            Benign  \n",
      "...            ...               ...  \n",
      "1598682        0.0  Web Attack – XSS  \n",
      "1598689        0.0  Web Attack – XSS  \n",
      "1598700        0.0  Web Attack – XSS  \n",
      "1598043        0.0  Web Attack – XSS  \n",
      "1606169        0.0  Web Attack – XSS  \n",
      "\n",
      "[2827876 rows x 78 columns]\n",
      "Count of records sorted by 'Column':\n",
      "Benign                        2357511\n",
      "DoS Hulk                       230124\n",
      "PortScan                       158804\n",
      "DDoS                            41834\n",
      "DoS GoldenEye                   10293\n",
      "FTP-Patator                      7935\n",
      "SSH-Patator                      5897\n",
      "DoS slowloris                    5796\n",
      "DoS Slowhttptest                 5499\n",
      "Bot                              1956\n",
      "Web Attack – Brute Force         1507\n",
      "Web Attack – XSS                  652\n",
      "Infiltration                       36\n",
      "Web Attack – Sql Injection         21\n",
      "Heartbleed                         11\n",
      "Name: Label, dtype: int64\n"
     ]
    }
   ],
   "source": [
    "sorted_df = df.sort_values(by='Label')\n",
    "\n",
    "# print the sorted dataframe\n",
    "print(\"Sorted DataFrame:\")\n",
    "print(sorted_df)\n",
    "count_records = sorted_df['Label'].value_counts()\n",
    "\n",
    "# print the count of records for each unique value\n",
    "print(\"Count of records sorted by 'Column':\")\n",
    "print(count_records)"
   ]
  },
  {
   "cell_type": "markdown",
   "id": "ae86c94d",
   "metadata": {},
   "source": [
    "## Dropping duplicates"
   ]
  },
  {
   "cell_type": "code",
   "execution_count": 18,
   "id": "8c538e95",
   "metadata": {},
   "outputs": [
    {
     "name": "stdout",
     "output_type": "stream",
     "text": [
      "594307 fully duplicate rows to remove\n"
     ]
    }
   ],
   "source": [
    "print(df.duplicated().sum(), \"fully duplicate rows to remove\")\n",
    "df.drop_duplicates(inplace=True)\n",
    "df.reset_index(inplace=True, drop=True)"
   ]
  },
  {
   "cell_type": "code",
   "execution_count": 19,
   "id": "9fde2256",
   "metadata": {},
   "outputs": [
    {
     "data": {
      "text/plain": [
       "(2233569, 78)"
      ]
     },
     "execution_count": 19,
     "metadata": {},
     "output_type": "execute_result"
    }
   ],
   "source": [
    "df.shape"
   ]
  },
  {
   "cell_type": "code",
   "execution_count": 20,
   "id": "e35326b2",
   "metadata": {},
   "outputs": [],
   "source": [
    "flag=True\n",
    " ##All CSV files are merged into a single file.\n",
    "if flag:\n",
    "    df.to_csv('all_data.csv' ,index = False)\n",
    "    flag=False\n",
    "else:\n",
    "    df.to_csv('all_data.csv' ,index = False,header=False,mode=\"a\")"
   ]
  },
  {
   "cell_type": "markdown",
   "id": "75cb8526",
   "metadata": {},
   "source": [
    "## Random Forest Regressor"
   ]
  },
  {
   "cell_type": "code",
   "execution_count": 21,
   "id": "c9f26856",
   "metadata": {},
   "outputs": [],
   "source": [
    "import numpy as np\n",
    "import os\n",
    "import pandas as pd\n",
    "import matplotlib.pyplot as plt\n",
    "%matplotlib inline\n",
    "from sklearn.ensemble import ExtraTreesClassifier\n",
    "from sklearn.model_selection import train_test_split\n",
    "from sklearn.ensemble import RandomForestRegressor\n",
    "import sklearn as sk\n",
    "import time\n",
    "seconds = time.time()"
   ]
  },
  {
   "cell_type": "code",
   "execution_count": 22,
   "id": "627e0c3b",
   "metadata": {},
   "outputs": [],
   "source": [
    "# Headers of column\n",
    "main_labels=[\"Flow Duration\",\"Total Fwd Packets\",   \"Total Backward Packets\",\"Total Length of Fwd Packets\",\"Total Length of Bwd Packets\",\"Fwd Packet Length Max\",\"Fwd Packet Length Min\",\n",
    "   \"Fwd Packet Length Mean\",\"Fwd Packet Length Std\",\"Bwd Packet Length Max\",\"Bwd Packet Length Min\",\"Bwd Packet Length Mean\",\"Bwd Packet Length Std\",\n",
    "   \"Flow Bytes/s\",\"Flow Packets/s\",\"Flow IAT Mean\",\"Flow IAT Std\",\"Flow IAT Max\",\"Flow IAT Min\",\"Fwd IAT Total\",\"Fwd IAT Mean\",\"Fwd IAT Std\",\"Fwd IAT Max\",\n",
    "   \"Fwd IAT Min\",\"Bwd IAT Total\",\"Bwd IAT Mean\",\"Bwd IAT Std\",\"Bwd IAT Max\",\"Bwd IAT Min\",\"Fwd PSH Flags\",\"Bwd PSH Flags\",\"Fwd URG Flags\",\"Bwd URG Flags\",\n",
    "   \"Fwd Header Length\",\"Bwd Header Length\",\"Fwd Packets/s\",\"Bwd Packets/s\",\"Min Packet Length\",\"Max Packet Length\",\"Packet Length Mean\",\"Packet Length Std\",\n",
    "   \"Packet Length Variance\",\"FIN Flag Count\",\"SYN Flag Count\",\"RST Flag Count\",\"PSH Flag Count\",\"ACK Flag Count\",\"URG Flag Count\",\"CWE Flag Count\",\n",
    "   \"ECE Flag Count\",\"Down/Up Ratio\",\"Average Packet Size\",\"Avg Fwd Segment Size\",\"Avg Bwd Segment Size\",\"Fwd Avg Bytes/Bulk\",\n",
    "   \"Fwd Avg Packets/Bulk\",\"Fwd Avg Bulk Rate\",\"Bwd Avg Bytes/Bulk\",\"Bwd Avg Packets/Bulk\",\"Bwd Avg Bulk Rate\",\"Subflow Fwd Packets\",\"Subflow Fwd Bytes\",\n",
    "   \"Subflow Bwd Packets\",\"Subflow Bwd Bytes\",\"Init_Win_bytes_forward\",\"Init_Win_bytes_backward\",\"act_data_pkt_fwd\",\n",
    "   \"min_seg_size_forward\",\"Active Mean\",\"Active Std\",\"Active Max\",\"Active Min\",\n",
    "    \"Idle Mean\",\"Idle Std\",\"Idle Max\", \"Idle Min\",\"Label\"]"
   ]
  },
  {
   "cell_type": "code",
   "execution_count": 23,
   "id": "7d055ec0",
   "metadata": {},
   "outputs": [],
   "source": [
    "# Assuming the target variable is 'target_column_name'\n",
    "X = df.drop('Label', axis=1)\n",
    "y = df['Label']\n",
    "\n",
    "# Convert categorical target to numerical labels (if needed)\n",
    "from sklearn.preprocessing import LabelEncoder\n",
    "label_encoder = LabelEncoder()\n",
    "y_encoded = label_encoder.fit_transform(y)"
   ]
  },
  {
   "cell_type": "code",
   "execution_count": 24,
   "id": "57367b5c",
   "metadata": {},
   "outputs": [],
   "source": [
    "# Split the data into training and testing sets\n",
    "X_train, X_test, y_train, y_test = train_test_split(X, y_encoded, test_size=0.2, random_state=42)"
   ]
  },
  {
   "cell_type": "code",
   "execution_count": 30,
   "id": "85f490f4",
   "metadata": {
    "scrolled": true
   },
   "outputs": [
    {
     "name": "stdout",
     "output_type": "stream",
     "text": [
      "                  Feature  Importance\n",
      "75               Idle Max    0.583511\n",
      "66     Init Bwd Win Bytes    0.097181\n",
      "34      Fwd Header Length    0.068357\n",
      "9   Fwd Packet Length Std    0.066985\n",
      "13  Bwd Packet Length Std    0.046692\n",
      "..                    ...         ...\n",
      "60      Bwd Avg Bulk Rate    0.000000\n",
      "59   Bwd Avg Packets/Bulk    0.000000\n",
      "58     Bwd Avg Bytes/Bulk    0.000000\n",
      "57      Fwd Avg Bulk Rate    0.000000\n",
      "33          Bwd URG Flags    0.000000\n",
      "\n",
      "[77 rows x 2 columns]\n"
     ]
    },
    {
     "ename": "NameError",
     "evalue": "name 'n' is not defined",
     "output_type": "error",
     "traceback": [
      "\u001b[1;31m---------------------------------------------------------------------------\u001b[0m",
      "\u001b[1;31mNameError\u001b[0m                                 Traceback (most recent call last)",
      "Cell \u001b[1;32mIn[30], line 20\u001b[0m\n\u001b[0;32m     17\u001b[0m \u001b[38;5;28mprint\u001b[39m(feature_importance_df)\n\u001b[0;32m     19\u001b[0m \u001b[38;5;66;03m# Select top 'n' features for further analysis\u001b[39;00m\n\u001b[1;32m---> 20\u001b[0m top_n_features \u001b[38;5;241m=\u001b[39m feature_importance_df\u001b[38;5;241m.\u001b[39mhead(\u001b[43mn\u001b[49m)[\u001b[38;5;124m'\u001b[39m\u001b[38;5;124mFeature\u001b[39m\u001b[38;5;124m'\u001b[39m]\u001b[38;5;241m.\u001b[39mtolist()\n",
      "\u001b[1;31mNameError\u001b[0m: name 'n' is not defined"
     ]
    }
   ],
   "source": [
    "# Initialize the Random Forest Regressor\n",
    "rf_regressor = RandomForestRegressor(n_estimators=100, random_state=42,max_depth=5)\n",
    "\n",
    "# Fit the regressor to the training data\n",
    "rf_regressor.fit(X_train, y_train)\n",
    "\n",
    "# Get feature importances\n",
    "feature_importances = rf_regressor.feature_importances_\n",
    "\n",
    "# Create a DataFrame to store feature importances with corresponding column names\n",
    "feature_importance_df = pd.DataFrame({'Feature': X_train.columns, 'Importance': feature_importances})\n",
    "\n",
    "# Sort features by importance\n",
    "feature_importance_df = feature_importance_df.sort_values(by='Importance', ascending=False)\n",
    "\n",
    "# Print the feature importances\n",
    "print(feature_importance_df)\n",
    "\n"
   ]
  },
  {
   "cell_type": "code",
   "execution_count": 33,
   "id": "f0b8c471",
   "metadata": {},
   "outputs": [
    {
     "name": "stdout",
     "output_type": "stream",
     "text": [
      "['Idle Max', 'Init Bwd Win Bytes', 'Fwd Header Length', 'Fwd Packet Length Std', 'Bwd Packet Length Std', 'Fwd IAT Min', 'Avg Packet Size']\n"
     ]
    }
   ],
   "source": [
    "# Select top 'n' features for further analysis\n",
    "top_n_features = feature_importance_df.head(7)['Feature'].tolist()\n",
    "print(top_n_features)"
   ]
  },
  {
   "cell_type": "code",
   "execution_count": 37,
   "id": "872618d3",
   "metadata": {},
   "outputs": [
    {
     "name": "stdout",
     "output_type": "stream",
     "text": [
      "Accuracy: 0.9660319578074562\n",
      "Confusion Matrix:\n",
      "[[396898      0      5      0      2      0      0      0      0      0\n",
      "       0      0      0      0      0]\n",
      " [   290      0      0      0      0      0      0      0      0      0\n",
      "       0      0      0      0      0]\n",
      " [  6462      0   1901      0      0      0      0      0      0      0\n",
      "       0      0      0      0      0]\n",
      " [   931      0      0   1105      0      0      0      0      0      0\n",
      "       0      0      0      0      0]\n",
      " [  3452      0      0      0  30897      0      0      0      0      0\n",
      "       0      0      0      0      0]\n",
      " [   876      0      0      0      0    221      0      0      0      0\n",
      "       0      0      0      0      0]\n",
      " [   529      0      0      0      0      0    518      0      0      0\n",
      "       0      0      0      0      0]\n",
      " [  1177      0      0      0      0      0      0      0      0      0\n",
      "       0      0      0      0      0]\n",
      " [     2      0      0      0      0      0      0      0      0      0\n",
      "       0      0      0      0      0]\n",
      " [     5      0      0      0      0      0      0      0      0      0\n",
      "       0      0      0      0      0]\n",
      " [   385      0      0      0      0      0      0      0      0      0\n",
      "       0      0      0      0      0]\n",
      " [   608      0      0      0      0      0      0      0      0      0\n",
      "       0      0      0      0      0]\n",
      " [   313      0      0      0      0      0      0      0      0      0\n",
      "       0      0      0      0      0]\n",
      " [     5      0      0      0      0      0      0      0      0      0\n",
      "       0      0      0      0      0]\n",
      " [   132      0      0      0      0      0      0      0      0      0\n",
      "       0      0      0      0      0]]\n"
     ]
    }
   ],
   "source": [
    "from sklearn.ensemble import RandomForestClassifier\n",
    "from sklearn.metrics import accuracy_score, classification_report\n",
    "# Initialize the Random Forest Classifier\n",
    "rf_classifier = RandomForestClassifier(n_estimators=50, random_state=4,max_depth=5,n_jobs=-1)\n",
    "\n",
    "# Fit the classifier to the training data\n",
    "rf_classifier.fit(X_train, y_train)\n",
    "\n",
    "# Make predictions on the test set\n",
    "y_pred = rf_classifier.predict(X_test)\n",
    "\n",
    "# Evaluate the classifier's performance (e.g., accuracy, confusion matrix, etc.)\n",
    "from sklearn.metrics import accuracy_score, confusion_matrix\n",
    "accuracy = accuracy_score(y_test, y_pred)\n",
    "confusion_mat = confusion_matrix(y_test, y_pred)\n",
    "\n",
    "print(\"Accuracy:\", accuracy)\n",
    "print(\"Confusion Matrix:\")\n",
    "print(confusion_mat)"
   ]
  },
  {
   "cell_type": "code",
   "execution_count": 2,
   "id": "ecd151ab",
   "metadata": {},
   "outputs": [
    {
     "ename": "NameError",
     "evalue": "name 'X_train' is not defined",
     "output_type": "error",
     "traceback": [
      "\u001b[1;31m---------------------------------------------------------------------------\u001b[0m",
      "\u001b[1;31mNameError\u001b[0m                                 Traceback (most recent call last)",
      "Cell \u001b[1;32mIn[2], line 8\u001b[0m\n\u001b[0;32m      5\u001b[0m svm_classifier \u001b[38;5;241m=\u001b[39m SVC(kernel\u001b[38;5;241m=\u001b[39m\u001b[38;5;124m'\u001b[39m\u001b[38;5;124mlinear\u001b[39m\u001b[38;5;124m'\u001b[39m, random_state\u001b[38;5;241m=\u001b[39m\u001b[38;5;241m42\u001b[39m,max_iter\u001b[38;5;241m=\u001b[39m\u001b[38;5;241m100\u001b[39m)\n\u001b[0;32m      7\u001b[0m \u001b[38;5;66;03m# Fit the classifier to the training data\u001b[39;00m\n\u001b[1;32m----> 8\u001b[0m svm_classifier\u001b[38;5;241m.\u001b[39mfit(\u001b[43mX_train\u001b[49m, y_train)\n\u001b[0;32m     10\u001b[0m \u001b[38;5;66;03m# Make predictions on the test set\u001b[39;00m\n\u001b[0;32m     11\u001b[0m y_pred_svm \u001b[38;5;241m=\u001b[39m svm_classifier\u001b[38;5;241m.\u001b[39mpredict(X_test)\n",
      "\u001b[1;31mNameError\u001b[0m: name 'X_train' is not defined"
     ]
    }
   ],
   "source": [
    "from sklearn.svm import SVC\n",
    "from sklearn.metrics import accuracy_score, classification_report\n",
    "\n",
    "# Initialize the Support Vector Classifier\n",
    "svm_classifier = SVC(kernel='linear', random_state=42,max_iter=100)\n",
    "\n",
    "# Fit the classifier to the training data\n",
    "svm_classifier.fit(X_train, y_train)\n",
    "\n",
    "# Make predictions on the test set\n",
    "y_pred_svm = svm_classifier.predict(X_test)\n",
    "\n",
    "# Evaluate the classifier's performance\n",
    "accuracy_svm = accuracy_score(y_test, y_pred_svm)\n",
    "classification_rep_svm = classification_report(y_test, y_pred_svm)\n",
    "\n",
    "print(\"SVM Accuracy:\", accuracy_svm)\n",
    "print(\"SVM Classification Report:\")\n",
    "print(classification_rep_svm)"
   ]
  },
  {
   "cell_type": "code",
   "execution_count": null,
   "id": "f9a0f5e4",
   "metadata": {},
   "outputs": [],
   "source": [
    "from sklearn.neighbors import KNeighborsClassifier\n",
    "from sklearn.metrics import accuracy_score, classification_report\n",
    "\n",
    "# Load and preprocess data (similar to previous examples)\n",
    "\n",
    "# Initialize the K-Nearest Neighbors Classifier\n",
    "knn_classifier = KNeighborsClassifier(n_neighbors=3)\n",
    "\n",
    "# Fit the classifier to the training data\n",
    "knn_classifier.fit(X_train, y_train)\n",
    "\n",
    "# Make predictions on the test set\n",
    "y_pred_knn = knn_classifier.predict(X_test)\n",
    "\n",
    "# Evaluate the classifier's performance\n",
    "accuracy_knn = accuracy_score(y_test, y_pred_knn)\n",
    "classification_rep_knn = classification_report(y_test, y_pred_knn)\n",
    "\n",
    "print(\"KNN Accuracy:\", accuracy_knn)\n",
    "print(\"KNN Classification Report:\")\n",
    "print(classification_rep_knn)"
   ]
  },
  {
   "cell_type": "code",
   "execution_count": null,
   "id": "6a91e6c5",
   "metadata": {},
   "outputs": [],
   "source": [
    "from sklearn.ensemble import GradientBoostingClassifier\n",
    "from sklearn.metrics import accuracy_score, classification_report\n",
    "\n",
    "# Load and preprocess data (similar to previous examples)\n",
    "\n",
    "# Initialize the Gradient Boosting Classifier\n",
    "gb_classifier = GradientBoostingClassifier(n_estimators=100, random_state=42)\n",
    "\n",
    "# Fit the classifier to the training data\n",
    "gb_classifier.fit(X_train, y_train)\n",
    "\n",
    "# Make predictions on the test set\n",
    "y_pred_gb = gb_classifier.predict(X_test)\n",
    "\n",
    "# Evaluate the classifier's performance\n",
    "accuracy_gb = accuracy_score(y_test, y_pred_gb)\n",
    "classification_rep_gb = classification_report(y_test, y_pred_gb)\n",
    "\n",
    "print(\"Gradient Boosting Accuracy:\", accuracy_gb)\n",
    "print(\"Gradient Boosting Classification Report:\")\n",
    "print(classification_rep_gb)"
   ]
  },
  {
   "cell_type": "code",
   "execution_count": 26,
   "id": "da92e873",
   "metadata": {},
   "outputs": [
    {
     "name": "stdout",
     "output_type": "stream",
     "text": [
      "Collecting tensorflow"
     ]
    },
    {
     "name": "stderr",
     "output_type": "stream",
     "text": [
      "ERROR: pip's dependency resolver does not currently take into account all the packages that are installed. This behaviour is the source of the following dependency conflicts.\n",
      "pydantic 2.2.0 requires typing-extensions>=4.6.1, but you have typing-extensions 4.5.0 which is incompatible.\n",
      "pydantic-core 2.6.0 requires typing-extensions!=4.7.0,>=4.6.0, but you have typing-extensions 4.5.0 which is incompatible.\n"
     ]
    },
    {
     "name": "stdout",
     "output_type": "stream",
     "text": [
      "\n",
      "  Downloading tensorflow-2.13.0-cp310-cp310-win_amd64.whl (1.9 kB)\n",
      "Collecting tensorflow-intel==2.13.0\n",
      "  Downloading tensorflow_intel-2.13.0-cp310-cp310-win_amd64.whl (276.5 MB)\n",
      "     -------------------------------------- 276.5/276.5 MB 4.4 MB/s eta 0:00:00\n",
      "Collecting tensorflow-io-gcs-filesystem>=0.23.1\n",
      "  Downloading tensorflow_io_gcs_filesystem-0.31.0-cp310-cp310-win_amd64.whl (1.5 MB)\n",
      "     ---------------------------------------- 1.5/1.5 MB 11.8 MB/s eta 0:00:00\n",
      "Collecting tensorflow-estimator<2.14,>=2.13.0\n",
      "  Downloading tensorflow_estimator-2.13.0-py2.py3-none-any.whl (440 kB)\n",
      "     ------------------------------------- 440.8/440.8 kB 13.9 MB/s eta 0:00:00\n",
      "Collecting astunparse>=1.6.0\n",
      "  Downloading astunparse-1.6.3-py2.py3-none-any.whl (12 kB)\n",
      "Requirement already satisfied: numpy<=1.24.3,>=1.22 in c:\\users\\ankit\\anaconda3\\lib\\site-packages (from tensorflow-intel==2.13.0->tensorflow) (1.23.5)\n",
      "Collecting termcolor>=1.1.0\n",
      "  Downloading termcolor-2.3.0-py3-none-any.whl (6.9 kB)\n",
      "Collecting typing-extensions<4.6.0,>=3.6.6\n",
      "  Downloading typing_extensions-4.5.0-py3-none-any.whl (27 kB)\n",
      "Collecting tensorboard<2.14,>=2.13\n",
      "  Downloading tensorboard-2.13.0-py3-none-any.whl (5.6 MB)\n",
      "     ---------------------------------------- 5.6/5.6 MB 14.3 MB/s eta 0:00:00\n",
      "Requirement already satisfied: wrapt>=1.11.0 in c:\\users\\ankit\\anaconda3\\lib\\site-packages (from tensorflow-intel==2.13.0->tensorflow) (1.14.1)\n",
      "Collecting google-pasta>=0.1.1\n",
      "  Downloading google_pasta-0.2.0-py3-none-any.whl (57 kB)\n",
      "     ---------------------------------------- 57.5/57.5 kB 3.1 MB/s eta 0:00:00\n",
      "Requirement already satisfied: six>=1.12.0 in c:\\users\\ankit\\anaconda3\\lib\\site-packages (from tensorflow-intel==2.13.0->tensorflow) (1.16.0)\n",
      "Collecting flatbuffers>=23.1.21\n",
      "  Downloading flatbuffers-23.5.26-py2.py3-none-any.whl (26 kB)\n",
      "Requirement already satisfied: setuptools in c:\\users\\ankit\\anaconda3\\lib\\site-packages (from tensorflow-intel==2.13.0->tensorflow) (65.6.3)\n",
      "Requirement already satisfied: packaging in c:\\users\\ankit\\anaconda3\\lib\\site-packages (from tensorflow-intel==2.13.0->tensorflow) (22.0)\n",
      "Collecting grpcio<2.0,>=1.24.3\n",
      "  Downloading grpcio-1.57.0-cp310-cp310-win_amd64.whl (4.3 MB)\n",
      "     ---------------------------------------- 4.3/4.3 MB 13.0 MB/s eta 0:00:00\n",
      "Collecting gast<=0.4.0,>=0.2.1\n",
      "  Downloading gast-0.4.0-py3-none-any.whl (9.8 kB)\n",
      "Collecting absl-py>=1.0.0\n",
      "  Downloading absl_py-1.4.0-py3-none-any.whl (126 kB)\n",
      "     -------------------------------------- 126.5/126.5 kB 3.8 MB/s eta 0:00:00\n",
      "Collecting opt-einsum>=2.3.2\n",
      "  Downloading opt_einsum-3.3.0-py3-none-any.whl (65 kB)\n",
      "     ---------------------------------------- 65.5/65.5 kB 3.5 MB/s eta 0:00:00\n",
      "Collecting keras<2.14,>=2.13.1\n",
      "  Downloading keras-2.13.1-py3-none-any.whl (1.7 MB)\n",
      "     ---------------------------------------- 1.7/1.7 MB 12.0 MB/s eta 0:00:00\n",
      "Requirement already satisfied: h5py>=2.9.0 in c:\\users\\ankit\\anaconda3\\lib\\site-packages (from tensorflow-intel==2.13.0->tensorflow) (3.7.0)\n",
      "Collecting protobuf!=4.21.0,!=4.21.1,!=4.21.2,!=4.21.3,!=4.21.4,!=4.21.5,<5.0.0dev,>=3.20.3\n",
      "  Downloading protobuf-4.24.1-cp310-abi3-win_amd64.whl (430 kB)\n",
      "     -------------------------------------- 430.4/430.4 kB 8.9 MB/s eta 0:00:00\n",
      "Collecting libclang>=13.0.0\n",
      "  Downloading libclang-16.0.6-py2.py3-none-win_amd64.whl (24.4 MB)\n",
      "     ---------------------------------------- 24.4/24.4 MB 9.8 MB/s eta 0:00:00\n",
      "Requirement already satisfied: wheel<1.0,>=0.23.0 in c:\\users\\ankit\\anaconda3\\lib\\site-packages (from astunparse>=1.6.0->tensorflow-intel==2.13.0->tensorflow) (0.38.4)\n",
      "Collecting tensorboard-data-server<0.8.0,>=0.7.0\n",
      "  Downloading tensorboard_data_server-0.7.1-py3-none-any.whl (2.4 kB)\n",
      "Requirement already satisfied: requests<3,>=2.21.0 in c:\\users\\ankit\\anaconda3\\lib\\site-packages (from tensorboard<2.14,>=2.13->tensorflow-intel==2.13.0->tensorflow) (2.28.1)\n",
      "Collecting google-auth<3,>=1.6.3\n",
      "  Downloading google_auth-2.22.0-py2.py3-none-any.whl (181 kB)\n",
      "     -------------------------------------- 181.8/181.8 kB 5.5 MB/s eta 0:00:00\n",
      "Collecting google-auth-oauthlib<1.1,>=0.5\n",
      "  Downloading google_auth_oauthlib-1.0.0-py2.py3-none-any.whl (18 kB)\n",
      "Requirement already satisfied: markdown>=2.6.8 in c:\\users\\ankit\\anaconda3\\lib\\site-packages (from tensorboard<2.14,>=2.13->tensorflow-intel==2.13.0->tensorflow) (3.4.1)\n",
      "Requirement already satisfied: werkzeug>=1.0.1 in c:\\users\\ankit\\anaconda3\\lib\\site-packages (from tensorboard<2.14,>=2.13->tensorflow-intel==2.13.0->tensorflow) (2.2.2)\n",
      "Collecting cachetools<6.0,>=2.0.0\n",
      "  Downloading cachetools-5.3.1-py3-none-any.whl (9.3 kB)\n",
      "Collecting rsa<5,>=3.1.4\n",
      "  Downloading rsa-4.9-py3-none-any.whl (34 kB)\n",
      "Requirement already satisfied: urllib3<2.0 in c:\\users\\ankit\\anaconda3\\lib\\site-packages (from google-auth<3,>=1.6.3->tensorboard<2.14,>=2.13->tensorflow-intel==2.13.0->tensorflow) (1.26.14)\n",
      "Requirement already satisfied: pyasn1-modules>=0.2.1 in c:\\users\\ankit\\anaconda3\\lib\\site-packages (from google-auth<3,>=1.6.3->tensorboard<2.14,>=2.13->tensorflow-intel==2.13.0->tensorflow) (0.2.8)\n",
      "Collecting requests-oauthlib>=0.7.0\n",
      "  Downloading requests_oauthlib-1.3.1-py2.py3-none-any.whl (23 kB)\n",
      "Requirement already satisfied: certifi>=2017.4.17 in c:\\users\\ankit\\anaconda3\\lib\\site-packages (from requests<3,>=2.21.0->tensorboard<2.14,>=2.13->tensorflow-intel==2.13.0->tensorflow) (2023.5.7)\n",
      "Requirement already satisfied: charset-normalizer<3,>=2 in c:\\users\\ankit\\anaconda3\\lib\\site-packages (from requests<3,>=2.21.0->tensorboard<2.14,>=2.13->tensorflow-intel==2.13.0->tensorflow) (2.0.4)\n",
      "Requirement already satisfied: idna<4,>=2.5 in c:\\users\\ankit\\anaconda3\\lib\\site-packages (from requests<3,>=2.21.0->tensorboard<2.14,>=2.13->tensorflow-intel==2.13.0->tensorflow) (3.4)\n",
      "Requirement already satisfied: MarkupSafe>=2.1.1 in c:\\users\\ankit\\anaconda3\\lib\\site-packages (from werkzeug>=1.0.1->tensorboard<2.14,>=2.13->tensorflow-intel==2.13.0->tensorflow) (2.1.1)\n",
      "Requirement already satisfied: pyasn1<0.5.0,>=0.4.6 in c:\\users\\ankit\\anaconda3\\lib\\site-packages (from pyasn1-modules>=0.2.1->google-auth<3,>=1.6.3->tensorboard<2.14,>=2.13->tensorflow-intel==2.13.0->tensorflow) (0.4.8)\n",
      "Collecting oauthlib>=3.0.0\n",
      "  Downloading oauthlib-3.2.2-py3-none-any.whl (151 kB)\n",
      "     -------------------------------------- 151.7/151.7 kB 9.4 MB/s eta 0:00:00\n",
      "Installing collected packages: libclang, flatbuffers, typing-extensions, termcolor, tensorflow-io-gcs-filesystem, tensorflow-estimator, tensorboard-data-server, rsa, protobuf, opt-einsum, oauthlib, keras, grpcio, google-pasta, gast, cachetools, astunparse, absl-py, requests-oauthlib, google-auth, google-auth-oauthlib, tensorboard, tensorflow-intel, tensorflow\n",
      "  Attempting uninstall: typing-extensions\n",
      "    Found existing installation: typing_extensions 4.7.1\n",
      "    Uninstalling typing_extensions-4.7.1:\n",
      "      Successfully uninstalled typing_extensions-4.7.1\n",
      "Successfully installed absl-py-1.4.0 astunparse-1.6.3 cachetools-5.3.1 flatbuffers-23.5.26 gast-0.4.0 google-auth-2.22.0 google-auth-oauthlib-1.0.0 google-pasta-0.2.0 grpcio-1.57.0 keras-2.13.1 libclang-16.0.6 oauthlib-3.2.2 opt-einsum-3.3.0 protobuf-4.24.1 requests-oauthlib-1.3.1 rsa-4.9 tensorboard-2.13.0 tensorboard-data-server-0.7.1 tensorflow-2.13.0 tensorflow-estimator-2.13.0 tensorflow-intel-2.13.0 tensorflow-io-gcs-filesystem-0.31.0 termcolor-2.3.0 typing-extensions-4.5.0\n"
     ]
    }
   ],
   "source": [
    "!pip install tensorflow"
   ]
  },
  {
   "cell_type": "code",
   "execution_count": 31,
   "id": "dd71d9c0",
   "metadata": {
    "scrolled": true
   },
   "outputs": [
    {
     "name": "stdout",
     "output_type": "stream",
     "text": [
      "Epoch 1/3\n",
      "50256/50256 [==============================] - 171s 3ms/step - loss: 4159.0889 - accuracy: 0.8908 - val_loss: 0.4672 - val_accuracy: 0.8866\n",
      "Epoch 2/3\n",
      "50256/50256 [==============================] - 139s 3ms/step - loss: 1.4463 - accuracy: 0.8879 - val_loss: 0.4805 - val_accuracy: 0.8867\n",
      "Epoch 3/3\n",
      "50256/50256 [==============================] - 143s 3ms/step - loss: 0.4751 - accuracy: 0.8879 - val_loss: 0.4805 - val_accuracy: 0.8867\n",
      "13960/13960 [==============================] - 37s 3ms/step - loss: 0.4736 - accuracy: 0.8885\n",
      "Test Accuracy: 0.8884991407394409\n",
      "13960/13960 [==============================] - 30s 2ms/step\n"
     ]
    },
    {
     "ename": "ValueError",
     "evalue": "Mix of label input types (string and number)",
     "output_type": "error",
     "traceback": [
      "\u001b[1;31m---------------------------------------------------------------------------\u001b[0m",
      "\u001b[1;31mValueError\u001b[0m                                Traceback (most recent call last)",
      "Cell \u001b[1;32mIn[31], line 33\u001b[0m\n\u001b[0;32m     31\u001b[0m \u001b[38;5;66;03m# Evaluate the classifier's performance\u001b[39;00m\n\u001b[0;32m     32\u001b[0m accuracy_nn \u001b[38;5;241m=\u001b[39m accuracy_score(y_test, y_pred_nn_labels)\n\u001b[1;32m---> 33\u001b[0m classification_rep_nn \u001b[38;5;241m=\u001b[39m \u001b[43mclassification_report\u001b[49m\u001b[43m(\u001b[49m\u001b[43my_test\u001b[49m\u001b[43m,\u001b[49m\u001b[43m \u001b[49m\u001b[43my_pred_nn_labels\u001b[49m\u001b[43m)\u001b[49m\n\u001b[0;32m     35\u001b[0m \u001b[38;5;28mprint\u001b[39m(\u001b[38;5;124m\"\u001b[39m\u001b[38;5;124mNeural Network Accuracy:\u001b[39m\u001b[38;5;124m\"\u001b[39m, accuracy_nn)\n\u001b[0;32m     36\u001b[0m \u001b[38;5;28mprint\u001b[39m(\u001b[38;5;124m\"\u001b[39m\u001b[38;5;124mNeural Network Classification Report:\u001b[39m\u001b[38;5;124m\"\u001b[39m)\n",
      "File \u001b[1;32m~\\anaconda3\\lib\\site-packages\\sklearn\\metrics\\_classification.py:2313\u001b[0m, in \u001b[0;36mclassification_report\u001b[1;34m(y_true, y_pred, labels, target_names, sample_weight, digits, output_dict, zero_division)\u001b[0m\n\u001b[0;32m   2310\u001b[0m y_type, y_true, y_pred \u001b[38;5;241m=\u001b[39m _check_targets(y_true, y_pred)\n\u001b[0;32m   2312\u001b[0m \u001b[38;5;28;01mif\u001b[39;00m labels \u001b[38;5;129;01mis\u001b[39;00m \u001b[38;5;28;01mNone\u001b[39;00m:\n\u001b[1;32m-> 2313\u001b[0m     labels \u001b[38;5;241m=\u001b[39m \u001b[43munique_labels\u001b[49m\u001b[43m(\u001b[49m\u001b[43my_true\u001b[49m\u001b[43m,\u001b[49m\u001b[43m \u001b[49m\u001b[43my_pred\u001b[49m\u001b[43m)\u001b[49m\n\u001b[0;32m   2314\u001b[0m     labels_given \u001b[38;5;241m=\u001b[39m \u001b[38;5;28;01mFalse\u001b[39;00m\n\u001b[0;32m   2315\u001b[0m \u001b[38;5;28;01melse\u001b[39;00m:\n",
      "File \u001b[1;32m~\\anaconda3\\lib\\site-packages\\sklearn\\utils\\multiclass.py:117\u001b[0m, in \u001b[0;36munique_labels\u001b[1;34m(*ys)\u001b[0m\n\u001b[0;32m    115\u001b[0m \u001b[38;5;66;03m# Check that we don't mix string type with number type\u001b[39;00m\n\u001b[0;32m    116\u001b[0m \u001b[38;5;28;01mif\u001b[39;00m \u001b[38;5;28mlen\u001b[39m(\u001b[38;5;28mset\u001b[39m(\u001b[38;5;28misinstance\u001b[39m(label, \u001b[38;5;28mstr\u001b[39m) \u001b[38;5;28;01mfor\u001b[39;00m label \u001b[38;5;129;01min\u001b[39;00m ys_labels)) \u001b[38;5;241m>\u001b[39m \u001b[38;5;241m1\u001b[39m:\n\u001b[1;32m--> 117\u001b[0m     \u001b[38;5;28;01mraise\u001b[39;00m \u001b[38;5;167;01mValueError\u001b[39;00m(\u001b[38;5;124m\"\u001b[39m\u001b[38;5;124mMix of label input types (string and number)\u001b[39m\u001b[38;5;124m\"\u001b[39m)\n\u001b[0;32m    119\u001b[0m \u001b[38;5;28;01mreturn\u001b[39;00m xp\u001b[38;5;241m.\u001b[39masarray(\u001b[38;5;28msorted\u001b[39m(ys_labels))\n",
      "\u001b[1;31mValueError\u001b[0m: Mix of label input types (string and number)"
     ]
    }
   ],
   "source": [
    "import numpy as np\n",
    "from sklearn.model_selection import train_test_split\n",
    "from sklearn.preprocessing import LabelEncoder\n",
    "from tensorflow import keras\n",
    "\n",
    "# Build a simple neural network using TensorFlow/Keras\n",
    "model = keras.Sequential([\n",
    "    keras.layers.Dense(64, activation='relu', input_shape=(X_train.shape[1],)),\n",
    "    keras.layers.Dense(64, activation='relu'),\n",
    "    keras.layers.Dense(15, activation='softmax')  # 15 output classes for Red, Blue, Green\n",
    "])\n",
    "\n",
    "# Compile the model\n",
    "model.compile(optimizer='adam', loss='sparse_categorical_crossentropy', metrics=['accuracy'])\n",
    "\n",
    "# Train the model\n",
    "model.fit(X_train, y_train, epochs=3, batch_size=32, validation_split=0.1)\n",
    "\n",
    "# Evaluate the model on the test set\n",
    "test_loss, test_accuracy = model.evaluate(X_test, y_test)\n",
    "print(\"Test Accuracy:\", test_accuracy)\n",
    "\n",
    "\n",
    "\n",
    "\n",
    "\n",
    "from sklearn.metrics import accuracy_score, classification_report\n",
    "# Evaluate the classifier's performance\n",
    "accuracy_nn = accuracy_score(y_test, y_pred_nn_labels)\n",
    "classification_rep_nn = classification_report(y_test, y_pred_nn_labels)\n",
    "\n",
    "print(\"Neural Network Accuracy:\", accuracy_nn)\n",
    "print(\"Neural Network Classification Report:\")\n",
    "print(classification_rep_nn)"
   ]
  },
  {
   "cell_type": "code",
   "execution_count": 32,
   "id": "f3c0ec67",
   "metadata": {},
   "outputs": [
    {
     "name": "stdout",
     "output_type": "stream",
     "text": [
      "13960/13960 [==============================] - 31s 2ms/step\n"
     ]
    }
   ],
   "source": [
    "# Make predictions on the test set\n",
    "y_pred_nn = model.predict(X_test)\n",
    "y_pred_nn = np.argmax(y_pred_nn, axis=1)  # Convert one-hot predictions to class labels"
   ]
  },
  {
   "cell_type": "code",
   "execution_count": 35,
   "id": "f9baa238",
   "metadata": {},
   "outputs": [
    {
     "name": "stdout",
     "output_type": "stream",
     "text": [
      "Unique values: ['Benign']\n",
      "Number of unique values: 1\n"
     ]
    }
   ],
   "source": [
    "# Convert back to original class labels using inverse_transform\n",
    "y_pred_nn_labels = label_encoder.inverse_transform(y_pred_nn)\n",
    "unique_values = np.unique(y_pred_nn_labels)\n",
    "num_unique = len(unique_values)\n",
    "\n",
    "print(\"Unique values:\", unique_values)\n",
    "print(\"Number of unique values:\", num_unique)"
   ]
  },
  {
   "cell_type": "code",
   "execution_count": null,
   "id": "6f2ca244",
   "metadata": {},
   "outputs": [],
   "source": [
    "from sklearn.metrics import roc_curve, auc, precision_recall_curve\n",
    "\n",
    "for model_name, model in models.items():\n",
    "    model.fit(X_train, y_train)\n",
    "    y_pred_proba = model.predict_proba(X_test)\n"
   ]
  },
  {
   "cell_type": "code",
   "execution_count": null,
   "id": "eb4c647f",
   "metadata": {},
   "outputs": [],
   "source": [
    " # ROC curve\n",
    "    fpr, tpr, _ = roc_curve(y_test, y_pred_proba[:, 1])\n",
    "    roc_auc = auc(fpr, tpr)\n",
    "    plt.figure(figsize=(8, 6))\n",
    "    plt.plot(fpr, tpr, color='darkorange', lw=2, label=f'ROC curve (area = {roc_auc:.2f})')\n",
    "    plt.plot([0, 1], [0, 1], color='navy', lw=2, linestyle='--')\n",
    "    plt.xlim([0.0, 1.0])\n",
    "    plt.ylim([0.0, 1.05])\n",
    "    plt.xlabel('False Positive Rate')\n",
    "    plt.ylabel('True Positive Rate')\n",
    "    plt.title(f'ROC Curve - {model_name}')\n",
    "    plt.legend(loc=\"lower right\")\n",
    "    plt.show()\n",
    "    \n",
    "    # Precision-Recall curve\n",
    "    precision, recall, _ = precision_recall_curve(y_test, y_pred_proba[:, 1])\n",
    "    plt.figure(figsize=(8, 6))\n",
    "    plt.step(recall, precision, color='b', alpha=0.2, where='post')\n",
    "    plt.fill_between(recall, precision, step='post', alpha=0.2, color='b')\n",
    "    plt.xlabel('Recall')\n",
    "    plt.ylabel('Precision')\n",
    "    plt.title(f'Precision-Recall Curve - {model_name}')\n",
    "    plt.ylim([0.0, 1.05])\n",
    "    plt.xlim([0.0, 1.0])\n",
    "    plt.show()"
   ]
  },
  {
   "cell_type": "code",
   "execution_count": null,
   "id": "23f08d69",
   "metadata": {},
   "outputs": [],
   "source": [
    "import numpy as np\n",
    "\n",
    "# Assuming 'models' and 'X_test' are defined as before\n",
    "\n",
    "evaluation_metrics = {\n",
    "    'Accuracy': accuracy_score,\n",
    "    'Precision': precision_score,\n",
    "    'Recall': recall_score,\n",
    "    'F1 Score': f1_score,\n",
    "}\n",
    "\n",
    "for metric_name, metric_func in evaluation_metrics.items():\n",
    "    metric_scores = []\n",
    "    \n",
    "    for model_name, model in models.items():\n",
    "        model.fit(X_train, y_train)\n",
    "        y_pred = model.predict(X_test)\n",
    "        \n",
    "        score = metric_func(y_test, y_pred, average='weighted')\n",
    "        metric_scores.append(score)\n",
    "    \n",
    "    plt.figure(figsize=(10, 6))\n",
    "    plt.bar(models.keys(), metric_scores, color='skyblue')\n",
    "    plt.xlabel('Models')\n",
    "    plt.ylabel(metric_name)\n",
    "    plt.title(f'{metric_name} Comparison for Different Models')\n",
    "    plt.xticks(rotation=45)\n",
    "    plt.show()\n"
   ]
  },
  {
   "cell_type": "code",
   "execution_count": null,
   "id": "6a97c366",
   "metadata": {},
   "outputs": [],
   "source": [
    "import joblib\n",
    "\n",
    "# Assuming 'models', 'X_train', 'y_train', 'X_test', and 'y_test' are defined as before\n",
    "\n",
    "best_model = None\n",
    "best_score = 0.0  # You can initialize this with the minimum score if needed\n",
    "\n",
    "for model_name, model in models.items():\n",
    "    model.fit(X_train, y_train)\n",
    "    y_pred = model.predict(X_test)\n",
    "    \n",
    "    accuracy = accuracy_score(y_test, y_pred)\n",
    "    f1 = f1_score(y_test, y_pred, average='weighted')\n",
    "    \n",
    "    # Choose a performance metric for comparison (e.g., accuracy, F1-score)\n",
    "    performance_metric = accuracy\n",
    "    \n",
    "    if performance_metric > best_score:\n",
    "        best_score = performance_metric\n",
    "        best_model = model\n",
    "        best_model_name = model_name\n",
    "\n",
    "# Save the best model using joblib\n",
    "if best_model is not None:\n",
    "    joblib.dump(best_model, f'best_model_{best_model_name}.joblib')\n",
    "    print(f\"Best model ({best_model_name}) saved.\")\n",
    "else:\n",
    "    print(\"No best model found.\")\n"
   ]
  },
  {
   "cell_type": "code",
   "execution_count": null,
   "id": "6b117d2d",
   "metadata": {},
   "outputs": [],
   "source": [
    "import tkinter as tk\n",
    "import joblib\n",
    "\n",
    "# Reload the saved model\n",
    "loaded_model = joblib.load('best_model_random_forest.joblib')\n",
    "\n",
    "# Create a GUI using Tkinter\n",
    "def predict():\n",
    "    # Get user input from the GUI elements (e.g., entry widgets)\n",
    "    # Preprocess the input to match the training data\n",
    "    \n",
    "    # Make predictions using the loaded model\n",
    "    predicted_class = loaded_model.predict(preprocessed_input)\n",
    "    \n",
    "    # Display the predicted class in the GUI (e.g., using a label)\n",
    "\n",
    "# Create the main GUI window\n",
    "window = tk.Tk()\n",
    "window.title(\"Model Prediction GUI\")\n",
    "\n",
    "# Create input elements (e.g., entry widgets, buttons, labels)\n",
    "\n",
    "# Create a button that triggers the prediction\n",
    "predict_button = tk.Button(window, text=\"Predict\", command=predict)\n",
    "predict_button.pack()\n",
    "\n",
    "# Run the GUI event loop\n",
    "window.mainloop()\n"
   ]
  },
  {
   "cell_type": "code",
   "execution_count": 32,
   "id": "ea437aa5",
   "metadata": {},
   "outputs": [],
   "source": [
    "df=df.fillna(0)\n",
    "attack_or_not=[]\n",
    "for i in df[\"Label\"]:#it changes the normal label to \"1\" and the attack tag to \"0\" for use in the machine learning algorithm\n",
    "    if i ==\"Benign\":\n",
    "        attack_or_not.append(1)\n",
    "    else:\n",
    "            attack_or_not.append(0)           \n",
    "df[\"Label\"]=attack_or_not\n",
    "y = df[\"Label\"].values\n",
    "del df[\"Label\"]\n",
    "X = df.values\n",
    "X = np.float32(X)\n",
    "X[np.isnan(X)] = 0\n",
    "X[np.isinf(X)] = 0\n"
   ]
  },
  {
   "cell_type": "code",
   "execution_count": 33,
   "id": "afe36561",
   "metadata": {},
   "outputs": [
    {
     "data": {
      "text/plain": [
       "<bound method NDFrame.head of          Protocol  Flow Duration  Total Fwd Packets  Total Backward Packets  \\\n",
       "0             6.0       143347.0               47.0                    60.0   \n",
       "1             6.0        50905.0                1.0                     1.0   \n",
       "2             6.0       143899.0               46.0                    58.0   \n",
       "3            17.0          313.0                2.0                     2.0   \n",
       "4             6.0       142605.0               45.0                    58.0   \n",
       "...           ...            ...                ...                     ...   \n",
       "2233564      17.0        32215.0                4.0                     2.0   \n",
       "2233565      17.0          324.0                2.0                     2.0   \n",
       "2233566       6.0           82.0                2.0                     1.0   \n",
       "2233567      17.0      1048635.0                6.0                     2.0   \n",
       "2233568      17.0        94939.0                4.0                     2.0   \n",
       "\n",
       "         Fwd Packets Length Total  Bwd Packets Length Total  \\\n",
       "0                          1325.0                  108751.0   \n",
       "1                             0.0                       0.0   \n",
       "2                          1325.0                  110185.0   \n",
       "3                            90.0                     206.0   \n",
       "4                          1325.0                  108751.0   \n",
       "...                           ...                       ...   \n",
       "2233564                     112.0                     152.0   \n",
       "2233565                      84.0                     362.0   \n",
       "2233566                      31.0                       6.0   \n",
       "2233567                     192.0                     256.0   \n",
       "2233568                     188.0                     226.0   \n",
       "\n",
       "         Fwd Packet Length Max  Fwd Packet Length Min  Fwd Packet Length Mean  \\\n",
       "0                        570.0                    0.0               28.191489   \n",
       "1                          0.0                    0.0                0.000000   \n",
       "2                        570.0                    0.0               28.804348   \n",
       "3                         45.0                   45.0               45.000000   \n",
       "4                        570.0                    0.0               29.444444   \n",
       "...                        ...                    ...                     ...   \n",
       "2233564                   28.0                   28.0               28.000000   \n",
       "2233565                   42.0                   42.0               42.000000   \n",
       "2233566                   31.0                    0.0               15.500000   \n",
       "2233567                   32.0                   32.0               32.000000   \n",
       "2233568                   47.0                   47.0               47.000000   \n",
       "\n",
       "         Fwd Packet Length Std  ...  Fwd Act Data Packets  Fwd Seg Size Min  \\\n",
       "0                   110.269756  ...                  30.0              20.0   \n",
       "1                     0.000000  ...                   0.0              32.0   \n",
       "2                   111.407285  ...                  30.0              20.0   \n",
       "3                     0.000000  ...                   1.0              20.0   \n",
       "4                   112.580588  ...                  30.0              20.0   \n",
       "...                        ...  ...                   ...               ...   \n",
       "2233564               0.000000  ...                   3.0              20.0   \n",
       "2233565               0.000000  ...                   1.0              20.0   \n",
       "2233566              21.920310  ...                   0.0              32.0   \n",
       "2233567               0.000000  ...                   5.0              20.0   \n",
       "2233568               0.000000  ...                   3.0              20.0   \n",
       "\n",
       "         Active Mean  Active Std  Active Max  Active Min  Idle Mean  Idle Std  \\\n",
       "0                0.0         0.0         0.0         0.0        0.0       0.0   \n",
       "1                0.0         0.0         0.0         0.0        0.0       0.0   \n",
       "2                0.0         0.0         0.0         0.0        0.0       0.0   \n",
       "3                0.0         0.0         0.0         0.0        0.0       0.0   \n",
       "4                0.0         0.0         0.0         0.0        0.0       0.0   \n",
       "...              ...         ...         ...         ...        ...       ...   \n",
       "2233564          0.0         0.0         0.0         0.0        0.0       0.0   \n",
       "2233565          0.0         0.0         0.0         0.0        0.0       0.0   \n",
       "2233566          0.0         0.0         0.0         0.0        0.0       0.0   \n",
       "2233567          0.0         0.0         0.0         0.0        0.0       0.0   \n",
       "2233568          0.0         0.0         0.0         0.0        0.0       0.0   \n",
       "\n",
       "         Idle Max  Idle Min  \n",
       "0             0.0       0.0  \n",
       "1             0.0       0.0  \n",
       "2             0.0       0.0  \n",
       "3             0.0       0.0  \n",
       "4             0.0       0.0  \n",
       "...           ...       ...  \n",
       "2233564       0.0       0.0  \n",
       "2233565       0.0       0.0  \n",
       "2233566       0.0       0.0  \n",
       "2233567       0.0       0.0  \n",
       "2233568       0.0       0.0  \n",
       "\n",
       "[2233569 rows x 77 columns]>"
      ]
     },
     "execution_count": 33,
     "metadata": {},
     "output_type": "execute_result"
    }
   ],
   "source": [
    "df.head"
   ]
  },
  {
   "cell_type": "code",
   "execution_count": 34,
   "id": "ec14c4c4",
   "metadata": {},
   "outputs": [
    {
     "ename": "KeyboardInterrupt",
     "evalue": "",
     "output_type": "error",
     "traceback": [
      "\u001b[1;31m---------------------------------------------------------------------------\u001b[0m",
      "\u001b[1;31mKeyboardInterrupt\u001b[0m                         Traceback (most recent call last)",
      "Cell \u001b[1;32mIn[34], line 3\u001b[0m\n\u001b[0;32m      1\u001b[0m \u001b[38;5;66;03m#computing the feature importances\u001b[39;00m\n\u001b[0;32m      2\u001b[0m forest \u001b[38;5;241m=\u001b[39m sk\u001b[38;5;241m.\u001b[39mensemble\u001b[38;5;241m.\u001b[39mRandomForestRegressor(n_estimators\u001b[38;5;241m=\u001b[39m\u001b[38;5;241m250\u001b[39m,random_state\u001b[38;5;241m=\u001b[39m\u001b[38;5;241m0\u001b[39m)\n\u001b[1;32m----> 3\u001b[0m \u001b[43mforest\u001b[49m\u001b[38;5;241;43m.\u001b[39;49m\u001b[43mfit\u001b[49m\u001b[43m(\u001b[49m\u001b[43mX\u001b[49m\u001b[43m,\u001b[49m\u001b[43m \u001b[49m\u001b[43my\u001b[49m\u001b[43m)\u001b[49m\n\u001b[0;32m      4\u001b[0m importances \u001b[38;5;241m=\u001b[39m forest\u001b[38;5;241m.\u001b[39mfeature_importances_\n\u001b[0;32m      5\u001b[0m std \u001b[38;5;241m=\u001b[39m np\u001b[38;5;241m.\u001b[39mstd([tree\u001b[38;5;241m.\u001b[39mfeature_importances_ \u001b[38;5;28;01mfor\u001b[39;00m tree \u001b[38;5;129;01min\u001b[39;00m forest\u001b[38;5;241m.\u001b[39mestimators_],axis\u001b[38;5;241m=\u001b[39m\u001b[38;5;241m0\u001b[39m)\n",
      "File \u001b[1;32m~\\anaconda3\\lib\\site-packages\\sklearn\\ensemble\\_forest.py:473\u001b[0m, in \u001b[0;36mBaseForest.fit\u001b[1;34m(self, X, y, sample_weight)\u001b[0m\n\u001b[0;32m    462\u001b[0m trees \u001b[38;5;241m=\u001b[39m [\n\u001b[0;32m    463\u001b[0m     \u001b[38;5;28mself\u001b[39m\u001b[38;5;241m.\u001b[39m_make_estimator(append\u001b[38;5;241m=\u001b[39m\u001b[38;5;28;01mFalse\u001b[39;00m, random_state\u001b[38;5;241m=\u001b[39mrandom_state)\n\u001b[0;32m    464\u001b[0m     \u001b[38;5;28;01mfor\u001b[39;00m i \u001b[38;5;129;01min\u001b[39;00m \u001b[38;5;28mrange\u001b[39m(n_more_estimators)\n\u001b[0;32m    465\u001b[0m ]\n\u001b[0;32m    467\u001b[0m \u001b[38;5;66;03m# Parallel loop: we prefer the threading backend as the Cython code\u001b[39;00m\n\u001b[0;32m    468\u001b[0m \u001b[38;5;66;03m# for fitting the trees is internally releasing the Python GIL\u001b[39;00m\n\u001b[0;32m    469\u001b[0m \u001b[38;5;66;03m# making threading more efficient than multiprocessing in\u001b[39;00m\n\u001b[0;32m    470\u001b[0m \u001b[38;5;66;03m# that case. However, for joblib 0.12+ we respect any\u001b[39;00m\n\u001b[0;32m    471\u001b[0m \u001b[38;5;66;03m# parallel_backend contexts set at a higher level,\u001b[39;00m\n\u001b[0;32m    472\u001b[0m \u001b[38;5;66;03m# since correctness does not rely on using threads.\u001b[39;00m\n\u001b[1;32m--> 473\u001b[0m trees \u001b[38;5;241m=\u001b[39m \u001b[43mParallel\u001b[49m\u001b[43m(\u001b[49m\n\u001b[0;32m    474\u001b[0m \u001b[43m    \u001b[49m\u001b[43mn_jobs\u001b[49m\u001b[38;5;241;43m=\u001b[39;49m\u001b[38;5;28;43mself\u001b[39;49m\u001b[38;5;241;43m.\u001b[39;49m\u001b[43mn_jobs\u001b[49m\u001b[43m,\u001b[49m\n\u001b[0;32m    475\u001b[0m \u001b[43m    \u001b[49m\u001b[43mverbose\u001b[49m\u001b[38;5;241;43m=\u001b[39;49m\u001b[38;5;28;43mself\u001b[39;49m\u001b[38;5;241;43m.\u001b[39;49m\u001b[43mverbose\u001b[49m\u001b[43m,\u001b[49m\n\u001b[0;32m    476\u001b[0m \u001b[43m    \u001b[49m\u001b[43mprefer\u001b[49m\u001b[38;5;241;43m=\u001b[39;49m\u001b[38;5;124;43m\"\u001b[39;49m\u001b[38;5;124;43mthreads\u001b[39;49m\u001b[38;5;124;43m\"\u001b[39;49m\u001b[43m,\u001b[49m\n\u001b[0;32m    477\u001b[0m \u001b[43m\u001b[49m\u001b[43m)\u001b[49m\u001b[43m(\u001b[49m\n\u001b[0;32m    478\u001b[0m \u001b[43m    \u001b[49m\u001b[43mdelayed\u001b[49m\u001b[43m(\u001b[49m\u001b[43m_parallel_build_trees\u001b[49m\u001b[43m)\u001b[49m\u001b[43m(\u001b[49m\n\u001b[0;32m    479\u001b[0m \u001b[43m        \u001b[49m\u001b[43mt\u001b[49m\u001b[43m,\u001b[49m\n\u001b[0;32m    480\u001b[0m \u001b[43m        \u001b[49m\u001b[38;5;28;43mself\u001b[39;49m\u001b[38;5;241;43m.\u001b[39;49m\u001b[43mbootstrap\u001b[49m\u001b[43m,\u001b[49m\n\u001b[0;32m    481\u001b[0m \u001b[43m        \u001b[49m\u001b[43mX\u001b[49m\u001b[43m,\u001b[49m\n\u001b[0;32m    482\u001b[0m \u001b[43m        \u001b[49m\u001b[43my\u001b[49m\u001b[43m,\u001b[49m\n\u001b[0;32m    483\u001b[0m \u001b[43m        \u001b[49m\u001b[43msample_weight\u001b[49m\u001b[43m,\u001b[49m\n\u001b[0;32m    484\u001b[0m \u001b[43m        \u001b[49m\u001b[43mi\u001b[49m\u001b[43m,\u001b[49m\n\u001b[0;32m    485\u001b[0m \u001b[43m        \u001b[49m\u001b[38;5;28;43mlen\u001b[39;49m\u001b[43m(\u001b[49m\u001b[43mtrees\u001b[49m\u001b[43m)\u001b[49m\u001b[43m,\u001b[49m\n\u001b[0;32m    486\u001b[0m \u001b[43m        \u001b[49m\u001b[43mverbose\u001b[49m\u001b[38;5;241;43m=\u001b[39;49m\u001b[38;5;28;43mself\u001b[39;49m\u001b[38;5;241;43m.\u001b[39;49m\u001b[43mverbose\u001b[49m\u001b[43m,\u001b[49m\n\u001b[0;32m    487\u001b[0m \u001b[43m        \u001b[49m\u001b[43mclass_weight\u001b[49m\u001b[38;5;241;43m=\u001b[39;49m\u001b[38;5;28;43mself\u001b[39;49m\u001b[38;5;241;43m.\u001b[39;49m\u001b[43mclass_weight\u001b[49m\u001b[43m,\u001b[49m\n\u001b[0;32m    488\u001b[0m \u001b[43m        \u001b[49m\u001b[43mn_samples_bootstrap\u001b[49m\u001b[38;5;241;43m=\u001b[39;49m\u001b[43mn_samples_bootstrap\u001b[49m\u001b[43m,\u001b[49m\n\u001b[0;32m    489\u001b[0m \u001b[43m    \u001b[49m\u001b[43m)\u001b[49m\n\u001b[0;32m    490\u001b[0m \u001b[43m    \u001b[49m\u001b[38;5;28;43;01mfor\u001b[39;49;00m\u001b[43m \u001b[49m\u001b[43mi\u001b[49m\u001b[43m,\u001b[49m\u001b[43m \u001b[49m\u001b[43mt\u001b[49m\u001b[43m \u001b[49m\u001b[38;5;129;43;01min\u001b[39;49;00m\u001b[43m \u001b[49m\u001b[38;5;28;43menumerate\u001b[39;49m\u001b[43m(\u001b[49m\u001b[43mtrees\u001b[49m\u001b[43m)\u001b[49m\n\u001b[0;32m    491\u001b[0m \u001b[43m\u001b[49m\u001b[43m)\u001b[49m\n\u001b[0;32m    493\u001b[0m \u001b[38;5;66;03m# Collect newly grown trees\u001b[39;00m\n\u001b[0;32m    494\u001b[0m \u001b[38;5;28mself\u001b[39m\u001b[38;5;241m.\u001b[39mestimators_\u001b[38;5;241m.\u001b[39mextend(trees)\n",
      "File \u001b[1;32m~\\anaconda3\\lib\\site-packages\\sklearn\\utils\\parallel.py:63\u001b[0m, in \u001b[0;36mParallel.__call__\u001b[1;34m(self, iterable)\u001b[0m\n\u001b[0;32m     58\u001b[0m config \u001b[38;5;241m=\u001b[39m get_config()\n\u001b[0;32m     59\u001b[0m iterable_with_config \u001b[38;5;241m=\u001b[39m (\n\u001b[0;32m     60\u001b[0m     (_with_config(delayed_func, config), args, kwargs)\n\u001b[0;32m     61\u001b[0m     \u001b[38;5;28;01mfor\u001b[39;00m delayed_func, args, kwargs \u001b[38;5;129;01min\u001b[39;00m iterable\n\u001b[0;32m     62\u001b[0m )\n\u001b[1;32m---> 63\u001b[0m \u001b[38;5;28;01mreturn\u001b[39;00m \u001b[38;5;28;43msuper\u001b[39;49m\u001b[43m(\u001b[49m\u001b[43m)\u001b[49m\u001b[38;5;241;43m.\u001b[39;49m\u001b[38;5;21;43m__call__\u001b[39;49m\u001b[43m(\u001b[49m\u001b[43miterable_with_config\u001b[49m\u001b[43m)\u001b[49m\n",
      "File \u001b[1;32m~\\anaconda3\\lib\\site-packages\\joblib\\parallel.py:1051\u001b[0m, in \u001b[0;36mParallel.__call__\u001b[1;34m(self, iterable)\u001b[0m\n\u001b[0;32m   1048\u001b[0m \u001b[38;5;28;01mif\u001b[39;00m \u001b[38;5;28mself\u001b[39m\u001b[38;5;241m.\u001b[39mdispatch_one_batch(iterator):\n\u001b[0;32m   1049\u001b[0m     \u001b[38;5;28mself\u001b[39m\u001b[38;5;241m.\u001b[39m_iterating \u001b[38;5;241m=\u001b[39m \u001b[38;5;28mself\u001b[39m\u001b[38;5;241m.\u001b[39m_original_iterator \u001b[38;5;129;01mis\u001b[39;00m \u001b[38;5;129;01mnot\u001b[39;00m \u001b[38;5;28;01mNone\u001b[39;00m\n\u001b[1;32m-> 1051\u001b[0m \u001b[38;5;28;01mwhile\u001b[39;00m \u001b[38;5;28;43mself\u001b[39;49m\u001b[38;5;241;43m.\u001b[39;49m\u001b[43mdispatch_one_batch\u001b[49m\u001b[43m(\u001b[49m\u001b[43miterator\u001b[49m\u001b[43m)\u001b[49m:\n\u001b[0;32m   1052\u001b[0m     \u001b[38;5;28;01mpass\u001b[39;00m\n\u001b[0;32m   1054\u001b[0m \u001b[38;5;28;01mif\u001b[39;00m pre_dispatch \u001b[38;5;241m==\u001b[39m \u001b[38;5;124m\"\u001b[39m\u001b[38;5;124mall\u001b[39m\u001b[38;5;124m\"\u001b[39m \u001b[38;5;129;01mor\u001b[39;00m n_jobs \u001b[38;5;241m==\u001b[39m \u001b[38;5;241m1\u001b[39m:\n\u001b[0;32m   1055\u001b[0m     \u001b[38;5;66;03m# The iterable was consumed all at once by the above for loop.\u001b[39;00m\n\u001b[0;32m   1056\u001b[0m     \u001b[38;5;66;03m# No need to wait for async callbacks to trigger to\u001b[39;00m\n\u001b[0;32m   1057\u001b[0m     \u001b[38;5;66;03m# consumption.\u001b[39;00m\n",
      "File \u001b[1;32m~\\anaconda3\\lib\\site-packages\\joblib\\parallel.py:864\u001b[0m, in \u001b[0;36mParallel.dispatch_one_batch\u001b[1;34m(self, iterator)\u001b[0m\n\u001b[0;32m    862\u001b[0m     \u001b[38;5;28;01mreturn\u001b[39;00m \u001b[38;5;28;01mFalse\u001b[39;00m\n\u001b[0;32m    863\u001b[0m \u001b[38;5;28;01melse\u001b[39;00m:\n\u001b[1;32m--> 864\u001b[0m     \u001b[38;5;28;43mself\u001b[39;49m\u001b[38;5;241;43m.\u001b[39;49m\u001b[43m_dispatch\u001b[49m\u001b[43m(\u001b[49m\u001b[43mtasks\u001b[49m\u001b[43m)\u001b[49m\n\u001b[0;32m    865\u001b[0m     \u001b[38;5;28;01mreturn\u001b[39;00m \u001b[38;5;28;01mTrue\u001b[39;00m\n",
      "File \u001b[1;32m~\\anaconda3\\lib\\site-packages\\joblib\\parallel.py:782\u001b[0m, in \u001b[0;36mParallel._dispatch\u001b[1;34m(self, batch)\u001b[0m\n\u001b[0;32m    780\u001b[0m \u001b[38;5;28;01mwith\u001b[39;00m \u001b[38;5;28mself\u001b[39m\u001b[38;5;241m.\u001b[39m_lock:\n\u001b[0;32m    781\u001b[0m     job_idx \u001b[38;5;241m=\u001b[39m \u001b[38;5;28mlen\u001b[39m(\u001b[38;5;28mself\u001b[39m\u001b[38;5;241m.\u001b[39m_jobs)\n\u001b[1;32m--> 782\u001b[0m     job \u001b[38;5;241m=\u001b[39m \u001b[38;5;28;43mself\u001b[39;49m\u001b[38;5;241;43m.\u001b[39;49m\u001b[43m_backend\u001b[49m\u001b[38;5;241;43m.\u001b[39;49m\u001b[43mapply_async\u001b[49m\u001b[43m(\u001b[49m\u001b[43mbatch\u001b[49m\u001b[43m,\u001b[49m\u001b[43m \u001b[49m\u001b[43mcallback\u001b[49m\u001b[38;5;241;43m=\u001b[39;49m\u001b[43mcb\u001b[49m\u001b[43m)\u001b[49m\n\u001b[0;32m    783\u001b[0m     \u001b[38;5;66;03m# A job can complete so quickly than its callback is\u001b[39;00m\n\u001b[0;32m    784\u001b[0m     \u001b[38;5;66;03m# called before we get here, causing self._jobs to\u001b[39;00m\n\u001b[0;32m    785\u001b[0m     \u001b[38;5;66;03m# grow. To ensure correct results ordering, .insert is\u001b[39;00m\n\u001b[0;32m    786\u001b[0m     \u001b[38;5;66;03m# used (rather than .append) in the following line\u001b[39;00m\n\u001b[0;32m    787\u001b[0m     \u001b[38;5;28mself\u001b[39m\u001b[38;5;241m.\u001b[39m_jobs\u001b[38;5;241m.\u001b[39minsert(job_idx, job)\n",
      "File \u001b[1;32m~\\anaconda3\\lib\\site-packages\\joblib\\_parallel_backends.py:208\u001b[0m, in \u001b[0;36mSequentialBackend.apply_async\u001b[1;34m(self, func, callback)\u001b[0m\n\u001b[0;32m    206\u001b[0m \u001b[38;5;28;01mdef\u001b[39;00m \u001b[38;5;21mapply_async\u001b[39m(\u001b[38;5;28mself\u001b[39m, func, callback\u001b[38;5;241m=\u001b[39m\u001b[38;5;28;01mNone\u001b[39;00m):\n\u001b[0;32m    207\u001b[0m     \u001b[38;5;124;03m\"\"\"Schedule a func to be run\"\"\"\u001b[39;00m\n\u001b[1;32m--> 208\u001b[0m     result \u001b[38;5;241m=\u001b[39m \u001b[43mImmediateResult\u001b[49m\u001b[43m(\u001b[49m\u001b[43mfunc\u001b[49m\u001b[43m)\u001b[49m\n\u001b[0;32m    209\u001b[0m     \u001b[38;5;28;01mif\u001b[39;00m callback:\n\u001b[0;32m    210\u001b[0m         callback(result)\n",
      "File \u001b[1;32m~\\anaconda3\\lib\\site-packages\\joblib\\_parallel_backends.py:572\u001b[0m, in \u001b[0;36mImmediateResult.__init__\u001b[1;34m(self, batch)\u001b[0m\n\u001b[0;32m    569\u001b[0m \u001b[38;5;28;01mdef\u001b[39;00m \u001b[38;5;21m__init__\u001b[39m(\u001b[38;5;28mself\u001b[39m, batch):\n\u001b[0;32m    570\u001b[0m     \u001b[38;5;66;03m# Don't delay the application, to avoid keeping the input\u001b[39;00m\n\u001b[0;32m    571\u001b[0m     \u001b[38;5;66;03m# arguments in memory\u001b[39;00m\n\u001b[1;32m--> 572\u001b[0m     \u001b[38;5;28mself\u001b[39m\u001b[38;5;241m.\u001b[39mresults \u001b[38;5;241m=\u001b[39m \u001b[43mbatch\u001b[49m\u001b[43m(\u001b[49m\u001b[43m)\u001b[49m\n",
      "File \u001b[1;32m~\\anaconda3\\lib\\site-packages\\joblib\\parallel.py:263\u001b[0m, in \u001b[0;36mBatchedCalls.__call__\u001b[1;34m(self)\u001b[0m\n\u001b[0;32m    259\u001b[0m \u001b[38;5;28;01mdef\u001b[39;00m \u001b[38;5;21m__call__\u001b[39m(\u001b[38;5;28mself\u001b[39m):\n\u001b[0;32m    260\u001b[0m     \u001b[38;5;66;03m# Set the default nested backend to self._backend but do not set the\u001b[39;00m\n\u001b[0;32m    261\u001b[0m     \u001b[38;5;66;03m# change the default number of processes to -1\u001b[39;00m\n\u001b[0;32m    262\u001b[0m     \u001b[38;5;28;01mwith\u001b[39;00m parallel_backend(\u001b[38;5;28mself\u001b[39m\u001b[38;5;241m.\u001b[39m_backend, n_jobs\u001b[38;5;241m=\u001b[39m\u001b[38;5;28mself\u001b[39m\u001b[38;5;241m.\u001b[39m_n_jobs):\n\u001b[1;32m--> 263\u001b[0m         \u001b[38;5;28;01mreturn\u001b[39;00m [func(\u001b[38;5;241m*\u001b[39margs, \u001b[38;5;241m*\u001b[39m\u001b[38;5;241m*\u001b[39mkwargs)\n\u001b[0;32m    264\u001b[0m                 \u001b[38;5;28;01mfor\u001b[39;00m func, args, kwargs \u001b[38;5;129;01min\u001b[39;00m \u001b[38;5;28mself\u001b[39m\u001b[38;5;241m.\u001b[39mitems]\n",
      "File \u001b[1;32m~\\anaconda3\\lib\\site-packages\\joblib\\parallel.py:263\u001b[0m, in \u001b[0;36m<listcomp>\u001b[1;34m(.0)\u001b[0m\n\u001b[0;32m    259\u001b[0m \u001b[38;5;28;01mdef\u001b[39;00m \u001b[38;5;21m__call__\u001b[39m(\u001b[38;5;28mself\u001b[39m):\n\u001b[0;32m    260\u001b[0m     \u001b[38;5;66;03m# Set the default nested backend to self._backend but do not set the\u001b[39;00m\n\u001b[0;32m    261\u001b[0m     \u001b[38;5;66;03m# change the default number of processes to -1\u001b[39;00m\n\u001b[0;32m    262\u001b[0m     \u001b[38;5;28;01mwith\u001b[39;00m parallel_backend(\u001b[38;5;28mself\u001b[39m\u001b[38;5;241m.\u001b[39m_backend, n_jobs\u001b[38;5;241m=\u001b[39m\u001b[38;5;28mself\u001b[39m\u001b[38;5;241m.\u001b[39m_n_jobs):\n\u001b[1;32m--> 263\u001b[0m         \u001b[38;5;28;01mreturn\u001b[39;00m [func(\u001b[38;5;241m*\u001b[39margs, \u001b[38;5;241m*\u001b[39m\u001b[38;5;241m*\u001b[39mkwargs)\n\u001b[0;32m    264\u001b[0m                 \u001b[38;5;28;01mfor\u001b[39;00m func, args, kwargs \u001b[38;5;129;01min\u001b[39;00m \u001b[38;5;28mself\u001b[39m\u001b[38;5;241m.\u001b[39mitems]\n",
      "File \u001b[1;32m~\\anaconda3\\lib\\site-packages\\sklearn\\utils\\parallel.py:123\u001b[0m, in \u001b[0;36m_FuncWrapper.__call__\u001b[1;34m(self, *args, **kwargs)\u001b[0m\n\u001b[0;32m    121\u001b[0m     config \u001b[38;5;241m=\u001b[39m {}\n\u001b[0;32m    122\u001b[0m \u001b[38;5;28;01mwith\u001b[39;00m config_context(\u001b[38;5;241m*\u001b[39m\u001b[38;5;241m*\u001b[39mconfig):\n\u001b[1;32m--> 123\u001b[0m     \u001b[38;5;28;01mreturn\u001b[39;00m \u001b[38;5;28mself\u001b[39m\u001b[38;5;241m.\u001b[39mfunction(\u001b[38;5;241m*\u001b[39margs, \u001b[38;5;241m*\u001b[39m\u001b[38;5;241m*\u001b[39mkwargs)\n",
      "File \u001b[1;32m~\\anaconda3\\lib\\site-packages\\sklearn\\ensemble\\_forest.py:184\u001b[0m, in \u001b[0;36m_parallel_build_trees\u001b[1;34m(tree, bootstrap, X, y, sample_weight, tree_idx, n_trees, verbose, class_weight, n_samples_bootstrap)\u001b[0m\n\u001b[0;32m    181\u001b[0m     \u001b[38;5;28;01melif\u001b[39;00m class_weight \u001b[38;5;241m==\u001b[39m \u001b[38;5;124m\"\u001b[39m\u001b[38;5;124mbalanced_subsample\u001b[39m\u001b[38;5;124m\"\u001b[39m:\n\u001b[0;32m    182\u001b[0m         curr_sample_weight \u001b[38;5;241m*\u001b[39m\u001b[38;5;241m=\u001b[39m compute_sample_weight(\u001b[38;5;124m\"\u001b[39m\u001b[38;5;124mbalanced\u001b[39m\u001b[38;5;124m\"\u001b[39m, y, indices\u001b[38;5;241m=\u001b[39mindices)\n\u001b[1;32m--> 184\u001b[0m     \u001b[43mtree\u001b[49m\u001b[38;5;241;43m.\u001b[39;49m\u001b[43mfit\u001b[49m\u001b[43m(\u001b[49m\u001b[43mX\u001b[49m\u001b[43m,\u001b[49m\u001b[43m \u001b[49m\u001b[43my\u001b[49m\u001b[43m,\u001b[49m\u001b[43m \u001b[49m\u001b[43msample_weight\u001b[49m\u001b[38;5;241;43m=\u001b[39;49m\u001b[43mcurr_sample_weight\u001b[49m\u001b[43m,\u001b[49m\u001b[43m \u001b[49m\u001b[43mcheck_input\u001b[49m\u001b[38;5;241;43m=\u001b[39;49m\u001b[38;5;28;43;01mFalse\u001b[39;49;00m\u001b[43m)\u001b[49m\n\u001b[0;32m    185\u001b[0m \u001b[38;5;28;01melse\u001b[39;00m:\n\u001b[0;32m    186\u001b[0m     tree\u001b[38;5;241m.\u001b[39mfit(X, y, sample_weight\u001b[38;5;241m=\u001b[39msample_weight, check_input\u001b[38;5;241m=\u001b[39m\u001b[38;5;28;01mFalse\u001b[39;00m)\n",
      "File \u001b[1;32m~\\anaconda3\\lib\\site-packages\\sklearn\\tree\\_classes.py:1247\u001b[0m, in \u001b[0;36mDecisionTreeRegressor.fit\u001b[1;34m(self, X, y, sample_weight, check_input)\u001b[0m\n\u001b[0;32m   1218\u001b[0m \u001b[38;5;28;01mdef\u001b[39;00m \u001b[38;5;21mfit\u001b[39m(\u001b[38;5;28mself\u001b[39m, X, y, sample_weight\u001b[38;5;241m=\u001b[39m\u001b[38;5;28;01mNone\u001b[39;00m, check_input\u001b[38;5;241m=\u001b[39m\u001b[38;5;28;01mTrue\u001b[39;00m):\n\u001b[0;32m   1219\u001b[0m     \u001b[38;5;124;03m\"\"\"Build a decision tree regressor from the training set (X, y).\u001b[39;00m\n\u001b[0;32m   1220\u001b[0m \n\u001b[0;32m   1221\u001b[0m \u001b[38;5;124;03m    Parameters\u001b[39;00m\n\u001b[1;32m   (...)\u001b[0m\n\u001b[0;32m   1244\u001b[0m \u001b[38;5;124;03m        Fitted estimator.\u001b[39;00m\n\u001b[0;32m   1245\u001b[0m \u001b[38;5;124;03m    \"\"\"\u001b[39;00m\n\u001b[1;32m-> 1247\u001b[0m     \u001b[38;5;28;43msuper\u001b[39;49m\u001b[43m(\u001b[49m\u001b[43m)\u001b[49m\u001b[38;5;241;43m.\u001b[39;49m\u001b[43mfit\u001b[49m\u001b[43m(\u001b[49m\n\u001b[0;32m   1248\u001b[0m \u001b[43m        \u001b[49m\u001b[43mX\u001b[49m\u001b[43m,\u001b[49m\n\u001b[0;32m   1249\u001b[0m \u001b[43m        \u001b[49m\u001b[43my\u001b[49m\u001b[43m,\u001b[49m\n\u001b[0;32m   1250\u001b[0m \u001b[43m        \u001b[49m\u001b[43msample_weight\u001b[49m\u001b[38;5;241;43m=\u001b[39;49m\u001b[43msample_weight\u001b[49m\u001b[43m,\u001b[49m\n\u001b[0;32m   1251\u001b[0m \u001b[43m        \u001b[49m\u001b[43mcheck_input\u001b[49m\u001b[38;5;241;43m=\u001b[39;49m\u001b[43mcheck_input\u001b[49m\u001b[43m,\u001b[49m\n\u001b[0;32m   1252\u001b[0m \u001b[43m    \u001b[49m\u001b[43m)\u001b[49m\n\u001b[0;32m   1253\u001b[0m     \u001b[38;5;28;01mreturn\u001b[39;00m \u001b[38;5;28mself\u001b[39m\n",
      "File \u001b[1;32m~\\anaconda3\\lib\\site-packages\\sklearn\\tree\\_classes.py:379\u001b[0m, in \u001b[0;36mBaseDecisionTree.fit\u001b[1;34m(self, X, y, sample_weight, check_input)\u001b[0m\n\u001b[0;32m    368\u001b[0m \u001b[38;5;28;01melse\u001b[39;00m:\n\u001b[0;32m    369\u001b[0m     builder \u001b[38;5;241m=\u001b[39m BestFirstTreeBuilder(\n\u001b[0;32m    370\u001b[0m         splitter,\n\u001b[0;32m    371\u001b[0m         min_samples_split,\n\u001b[1;32m   (...)\u001b[0m\n\u001b[0;32m    376\u001b[0m         \u001b[38;5;28mself\u001b[39m\u001b[38;5;241m.\u001b[39mmin_impurity_decrease,\n\u001b[0;32m    377\u001b[0m     )\n\u001b[1;32m--> 379\u001b[0m \u001b[43mbuilder\u001b[49m\u001b[38;5;241;43m.\u001b[39;49m\u001b[43mbuild\u001b[49m\u001b[43m(\u001b[49m\u001b[38;5;28;43mself\u001b[39;49m\u001b[38;5;241;43m.\u001b[39;49m\u001b[43mtree_\u001b[49m\u001b[43m,\u001b[49m\u001b[43m \u001b[49m\u001b[43mX\u001b[49m\u001b[43m,\u001b[49m\u001b[43m \u001b[49m\u001b[43my\u001b[49m\u001b[43m,\u001b[49m\u001b[43m \u001b[49m\u001b[43msample_weight\u001b[49m\u001b[43m)\u001b[49m\n\u001b[0;32m    381\u001b[0m \u001b[38;5;28;01mif\u001b[39;00m \u001b[38;5;28mself\u001b[39m\u001b[38;5;241m.\u001b[39mn_outputs_ \u001b[38;5;241m==\u001b[39m \u001b[38;5;241m1\u001b[39m \u001b[38;5;129;01mand\u001b[39;00m is_classifier(\u001b[38;5;28mself\u001b[39m):\n\u001b[0;32m    382\u001b[0m     \u001b[38;5;28mself\u001b[39m\u001b[38;5;241m.\u001b[39mn_classes_ \u001b[38;5;241m=\u001b[39m \u001b[38;5;28mself\u001b[39m\u001b[38;5;241m.\u001b[39mn_classes_[\u001b[38;5;241m0\u001b[39m]\n",
      "\u001b[1;31mKeyboardInterrupt\u001b[0m: "
     ]
    }
   ],
   "source": [
    "#computing the feature importances\n",
    "forest = sk.ensemble.RandomForestRegressor(n_estimators=250,random_state=0)\n",
    "forest.fit(X, y)\n",
    "importances = forest.feature_importances_\n",
    "std = np.std([tree.feature_importances_ for tree in forest.estimators_],axis=0)\n",
    "indices = np.argsort(importances)[::-1]\n",
    "refclasscol=list(df.columns.values)\n",
    "impor_bars = pd.DataFrame({'Features':refclasscol[0:20],'importance':importances[0:20]})\n",
    "impor_bars = impor_bars.sort_values('importance',ascending=False).set_index('Features')\n",
    "plt.rcParams['figure.figsize'] = (10, 5)\n",
    "impor_bars.plot.bar();"
   ]
  },
  {
   "cell_type": "code",
   "execution_count": null,
   "id": "aea07a17",
   "metadata": {},
   "outputs": [],
   "source": [
    "#printing the feature importances  \n",
    "count=0\n",
    "fea_ture=j[0:-4]+\"=[\"for i in impor_bars.index:\n",
    "    fea_ture=fea_ture+\"\\\"\"+str(i)+\"\\\",\"\n",
    "    count+=1\n",
    "    if count==5:\n",
    "        fea_ture=fea_ture[0:-1]+\"]\"\n",
    "        break\n",
    "print(j[0:-4],\"importance list:\")\n",
    "print(j[0:-4],\"\\n\",impor_bars.head(20),\"\\n\\n\\n\")\n",
    "print(fea_ture)\n",
    "plt.title(j[0:-4]+\" Attack - Feature Importance\")\n",
    "plt.ylabel('Importance')\n",
    "plt.tight_layout()\n",
    "plt.show()"
   ]
  }
 ],
 "metadata": {
  "kernelspec": {
   "display_name": "Python 3 (ipykernel)",
   "language": "python",
   "name": "python3"
  },
  "language_info": {
   "codemirror_mode": {
    "name": "ipython",
    "version": 3
   },
   "file_extension": ".py",
   "mimetype": "text/x-python",
   "name": "python",
   "nbconvert_exporter": "python",
   "pygments_lexer": "ipython3",
   "version": "3.10.9"
  }
 },
 "nbformat": 4,
 "nbformat_minor": 5
}
