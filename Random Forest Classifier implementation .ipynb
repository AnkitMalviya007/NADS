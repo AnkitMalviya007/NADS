{
 "cells": [
  {
   "cell_type": "code",
   "execution_count": 1,
   "id": "696ce486",
   "metadata": {},
   "outputs": [],
   "source": [
    "import pandas as pd\n",
    "from sklearn.model_selection import train_test_split\n",
    "from sklearn.ensemble import RandomForestClassifier\n",
    "from sklearn.metrics import accuracy_score, precision_score, recall_score, f1_score, classification_report, confusion_matrix\n",
    "\n"
   ]
  },
  {
   "cell_type": "code",
   "execution_count": 2,
   "id": "1fd8fe5e",
   "metadata": {
    "scrolled": true
   },
   "outputs": [
    {
     "name": "stdout",
     "output_type": "stream",
     "text": [
      "   Protocol  Flow Duration  Total Fwd Packets  Total Backward Packets  \\\n",
      "0       6.0       143347.0               47.0                    60.0   \n",
      "1       6.0        50905.0                1.0                     1.0   \n",
      "2       6.0       143899.0               46.0                    58.0   \n",
      "3      17.0          313.0                2.0                     2.0   \n",
      "4       6.0       142605.0               45.0                    58.0   \n",
      "\n",
      "   Fwd Packets Length Total  Bwd Packets Length Total  Fwd Packet Length Max  \\\n",
      "0                    1325.0                  108751.0                  570.0   \n",
      "1                       0.0                       0.0                    0.0   \n",
      "2                    1325.0                  110185.0                  570.0   \n",
      "3                      90.0                     206.0                   45.0   \n",
      "4                    1325.0                  108751.0                  570.0   \n",
      "\n",
      "   Fwd Packet Length Min  Fwd Packet Length Mean  Fwd Packet Length Std  ...  \\\n",
      "0                    0.0               28.191489             110.269756  ...   \n",
      "1                    0.0                0.000000               0.000000  ...   \n",
      "2                    0.0               28.804348             111.407285  ...   \n",
      "3                   45.0               45.000000               0.000000  ...   \n",
      "4                    0.0               29.444444             112.580588  ...   \n",
      "\n",
      "   Fwd Seg Size Min  Active Mean  Active Std  Active Max  Active Min  \\\n",
      "0              20.0          0.0         0.0         0.0         0.0   \n",
      "1              32.0          0.0         0.0         0.0         0.0   \n",
      "2              20.0          0.0         0.0         0.0         0.0   \n",
      "3              20.0          0.0         0.0         0.0         0.0   \n",
      "4              20.0          0.0         0.0         0.0         0.0   \n",
      "\n",
      "   Idle Mean  Idle Std  Idle Max  Idle Min   Label  \n",
      "0        0.0       0.0       0.0       0.0  Benign  \n",
      "1        0.0       0.0       0.0       0.0  Benign  \n",
      "2        0.0       0.0       0.0       0.0  Benign  \n",
      "3        0.0       0.0       0.0       0.0  Benign  \n",
      "4        0.0       0.0       0.0       0.0  Benign  \n",
      "\n",
      "[5 rows x 78 columns]\n"
     ]
    }
   ],
   "source": [
    "# Replace 'your_file.csv' with the actual file path\n",
    "file_path = 'C:/Users/Ankit/Downloads/Project/source/all_data.csv'\n",
    "\n",
    "# Read the CSV file into a DataFrame\n",
    "df = pd.read_csv(file_path)\n",
    "\n",
    "# Display the first few rows of the DataFrame\n",
    "print(df.head())"
   ]
  },
  {
   "cell_type": "code",
   "execution_count": 3,
   "id": "fd46adc4",
   "metadata": {},
   "outputs": [],
   "source": [
    "X_data = df[['Idle Max', 'Init Bwd Win Bytes', 'Fwd Header Length', 'Fwd Packet Length Std', 'Bwd Packet Length Std', 'Fwd IAT Min', 'Avg Packet Size']]\n",
    "y_labels = df['Label']"
   ]
  },
  {
   "cell_type": "code",
   "execution_count": 5,
   "id": "16a3f400",
   "metadata": {},
   "outputs": [],
   "source": [
    "# Split the data into training and testing sets\n",
    "X_train, X_test, y_train, y_test = train_test_split(X_data, y_labels, test_size=0.2, random_state=42)"
   ]
  },
  {
   "cell_type": "code",
   "execution_count": 6,
   "id": "3de2f16e",
   "metadata": {},
   "outputs": [],
   "source": [
    "# Create and train the Random Forest classifier\n",
    "rf_classifier = RandomForestClassifier(n_estimators=100, random_state=42,max_depth=5,n_jobs=-1)\n",
    "rf_classifier.fit(X_train, y_train)\n",
    "\n",
    "# Make predictions on the test set\n",
    "y_pred = rf_classifier.predict(X_test)"
   ]
  },
  {
   "cell_type": "code",
   "execution_count": 8,
   "id": "7d8c8e35",
   "metadata": {},
   "outputs": [
    {
     "name": "stdout",
     "output_type": "stream",
     "text": [
      "Accuracy: 0.9631173412966686\n"
     ]
    },
    {
     "name": "stderr",
     "output_type": "stream",
     "text": [
      "C:\\Users\\Ankit\\anaconda3\\lib\\site-packages\\sklearn\\metrics\\_classification.py:1344: UndefinedMetricWarning: Precision is ill-defined and being set to 0.0 in labels with no predicted samples. Use `zero_division` parameter to control this behavior.\n",
      "  _warn_prf(average, modifier, msg_start, len(result))\n"
     ]
    },
    {
     "name": "stdout",
     "output_type": "stream",
     "text": [
      "Precision: 0.95719216682273\n",
      "Recall: 0.9631173412966686\n",
      "F1-score: 0.9526358467683806\n"
     ]
    },
    {
     "name": "stderr",
     "output_type": "stream",
     "text": [
      "C:\\Users\\Ankit\\anaconda3\\lib\\site-packages\\sklearn\\metrics\\_classification.py:1344: UndefinedMetricWarning: Precision and F-score are ill-defined and being set to 0.0 in labels with no predicted samples. Use `zero_division` parameter to control this behavior.\n",
      "  _warn_prf(average, modifier, msg_start, len(result))\n",
      "C:\\Users\\Ankit\\anaconda3\\lib\\site-packages\\sklearn\\metrics\\_classification.py:1344: UndefinedMetricWarning: Precision and F-score are ill-defined and being set to 0.0 in labels with no predicted samples. Use `zero_division` parameter to control this behavior.\n",
      "  _warn_prf(average, modifier, msg_start, len(result))\n",
      "C:\\Users\\Ankit\\anaconda3\\lib\\site-packages\\sklearn\\metrics\\_classification.py:1344: UndefinedMetricWarning: Precision and F-score are ill-defined and being set to 0.0 in labels with no predicted samples. Use `zero_division` parameter to control this behavior.\n",
      "  _warn_prf(average, modifier, msg_start, len(result))\n"
     ]
    },
    {
     "name": "stdout",
     "output_type": "stream",
     "text": [
      "Classification Report:\n",
      "                             precision    recall  f1-score   support\n",
      "\n",
      "                    Benign       0.96      1.00      0.98    396905\n",
      "                      DDoS       0.00      0.00      0.00       290\n",
      "                  PortScan       0.96      0.21      0.35      8363\n",
      "                       Bot       1.00      0.18      0.31      2036\n",
      "              Infiltration       0.97      0.90      0.93     34349\n",
      "  Web Attack – Brute Force       1.00      0.19      0.32      1097\n",
      "          Web Attack – XSS       1.00      0.19      0.32      1047\n",
      "Web Attack – Sql Injection       0.00      0.00      0.00      1177\n",
      "               FTP-Patator       0.00      0.00      0.00         2\n",
      "               SSH-Patator       0.00      0.00      0.00         5\n",
      "             DoS slowloris       0.00      0.00      0.00       385\n",
      "          DoS Slowhttptest       0.00      0.00      0.00       608\n",
      "                  DoS Hulk       0.00      0.00      0.00       313\n",
      "             DoS GoldenEye       0.00      0.00      0.00         5\n",
      "                Heartbleed       0.00      0.00      0.00       132\n",
      "\n",
      "                  accuracy                           0.96    446714\n",
      "                 macro avg       0.39      0.18      0.21    446714\n",
      "              weighted avg       0.96      0.96      0.95    446714\n",
      "\n",
      "Confusion Matrix:\n",
      " [[396839     65      0      0      0      0      0      0      0      0\n",
      "       0      0      0      1      0]\n",
      " [  6581   1782      0      0      0      0      0      0      0      0\n",
      "       0      0      0      0      0]\n",
      " [   385      0      0      0      0      0      0      0      0      0\n",
      "       0      0      0      0      0]\n",
      " [   290      0      0      0      0      0      0      0      0      0\n",
      "       0      0      0      0      0]\n",
      " [     5      0      0      0      0      0      0      0      0      0\n",
      "       0      0      0      0      0]\n",
      " [   313      0      0      0      0      0      0      0      0      0\n",
      "       0      0      0      0      0]\n",
      " [   132      0      0      0      0      0      0      0      0      0\n",
      "       0      0      0      0      0]\n",
      " [     5      0      0      0      0      0      0      0      0      0\n",
      "       0      0      0      0      0]\n",
      " [  1177      0      0      0      0      0      0      0      0      0\n",
      "       0      0      0      0      0]\n",
      " [   608      0      0      0      0      0      0      0      0      0\n",
      "       0      0      0      0      0]\n",
      " [   848      0      0      0      0      0      0      0      0      0\n",
      "     199      0      0      0      0]\n",
      " [   885      0      0      0      0      0      0      0      0      0\n",
      "       0    212      0      0      0]\n",
      " [  3513      0      0      0      0      0      0      0      0      0\n",
      "       0      0  30836      0      0]\n",
      " [   744      0      0      0      0      0      0      0      0      0\n",
      "       0      0    922    370      0]\n",
      " [     1      0      0      0      0      0      0      0      0      0\n",
      "       0      0      1      0      0]]\n"
     ]
    }
   ],
   "source": [
    "# Calculate and print various metrics\n",
    "print(\"Accuracy:\", accuracy_score(y_test, y_pred))\n",
    "print(\"Precision:\", precision_score(y_test, y_pred, average='weighted'))\n",
    "print(\"Recall:\", recall_score(y_test, y_pred, average='weighted'))\n",
    "print(\"F1-score:\", f1_score(y_test, y_pred, average='weighted'))\n",
    "\n",
    "# Print classification report\n",
    "class_names = y_labels.unique()  # Get unique class names\n",
    "classification_rep = classification_report(y_test, y_pred, target_names=class_names)\n",
    "print(\"Classification Report:\\n\", classification_rep)\n",
    "\n",
    "# Print confusion matrix\n",
    "conf_matrix = confusion_matrix(y_test, y_pred, labels=class_names)\n",
    "print(\"Confusion Matrix:\\n\", conf_matrix)\n"
   ]
  },
  {
   "cell_type": "code",
   "execution_count": null,
   "id": "f77729eb",
   "metadata": {},
   "outputs": [],
   "source": []
  }
 ],
 "metadata": {
  "kernelspec": {
   "display_name": "Python 3 (ipykernel)",
   "language": "python",
   "name": "python3"
  },
  "language_info": {
   "codemirror_mode": {
    "name": "ipython",
    "version": 3
   },
   "file_extension": ".py",
   "mimetype": "text/x-python",
   "name": "python",
   "nbconvert_exporter": "python",
   "pygments_lexer": "ipython3",
   "version": "3.10.9"
  }
 },
 "nbformat": 4,
 "nbformat_minor": 5
}
